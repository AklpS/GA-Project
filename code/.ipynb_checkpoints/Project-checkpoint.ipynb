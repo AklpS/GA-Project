{
 "cells": [
  {
   "cell_type": "markdown",
   "id": "6f20bdb4",
   "metadata": {},
   "source": [
    "Clinical Dataset of the CYP-Guides Trial"
   ]
  },
  {
   "cell_type": "code",
   "execution_count": 102,
   "id": "6d35e02e",
   "metadata": {},
   "outputs": [],
   "source": [
    "import pandas as pd\n",
    "import numpy as np\n",
    "import matplotlib.pyplot as plt\n",
    "%matplotlib inline"
   ]
  },
  {
   "cell_type": "code",
   "execution_count": 103,
   "id": "b497b85d",
   "metadata": {},
   "outputs": [
    {
     "data": {
      "text/html": [
       "<div>\n",
       "<style scoped>\n",
       "    .dataframe tbody tr th:only-of-type {\n",
       "        vertical-align: middle;\n",
       "    }\n",
       "\n",
       "    .dataframe tbody tr th {\n",
       "        vertical-align: top;\n",
       "    }\n",
       "\n",
       "    .dataframe thead th {\n",
       "        text-align: right;\n",
       "    }\n",
       "</style>\n",
       "<table border=\"1\" class=\"dataframe\">\n",
       "  <thead>\n",
       "    <tr style=\"text-align: right;\">\n",
       "      <th></th>\n",
       "      <th>ID</th>\n",
       "      <th>GENDER</th>\n",
       "      <th>AGE</th>\n",
       "      <th>RACE/ETHNICITY</th>\n",
       "      <th>Diagnosis</th>\n",
       "      <th>MD</th>\n",
       "      <th>Assignment</th>\n",
       "      <th>EMR</th>\n",
       "      <th>LOS</th>\n",
       "      <th>RAR</th>\n",
       "      <th>...</th>\n",
       "      <th>X</th>\n",
       "      <th>Y</th>\n",
       "      <th>Z</th>\n",
       "      <th>AA</th>\n",
       "      <th>AB</th>\n",
       "      <th>AC</th>\n",
       "      <th>AD</th>\n",
       "      <th># Psychotropic Medications</th>\n",
       "      <th># Administrations</th>\n",
       "      <th>Therapeutic Guidances</th>\n",
       "    </tr>\n",
       "  </thead>\n",
       "  <tbody>\n",
       "    <tr>\n",
       "      <th>0</th>\n",
       "      <td>1</td>\n",
       "      <td>F</td>\n",
       "      <td>49</td>\n",
       "      <td>W</td>\n",
       "      <td>MDD, Recurrent, Unspecified</td>\n",
       "      <td>L</td>\n",
       "      <td>G</td>\n",
       "      <td>C</td>\n",
       "      <td>70</td>\n",
       "      <td>0</td>\n",
       "      <td>...</td>\n",
       "      <td>0</td>\n",
       "      <td>0</td>\n",
       "      <td>0</td>\n",
       "      <td>0</td>\n",
       "      <td>1</td>\n",
       "      <td>0</td>\n",
       "      <td>0</td>\n",
       "      <td>3</td>\n",
       "      <td>6</td>\n",
       "      <td>EG</td>\n",
       "    </tr>\n",
       "    <tr>\n",
       "      <th>1</th>\n",
       "      <td>2</td>\n",
       "      <td>F</td>\n",
       "      <td>21</td>\n",
       "      <td>W</td>\n",
       "      <td>MDD, Recurrent, Unspecified</td>\n",
       "      <td>A</td>\n",
       "      <td>G</td>\n",
       "      <td>C</td>\n",
       "      <td>309</td>\n",
       "      <td>0</td>\n",
       "      <td>...</td>\n",
       "      <td>0</td>\n",
       "      <td>13</td>\n",
       "      <td>0</td>\n",
       "      <td>0</td>\n",
       "      <td>0</td>\n",
       "      <td>0</td>\n",
       "      <td>0</td>\n",
       "      <td>3</td>\n",
       "      <td>27</td>\n",
       "      <td>CT</td>\n",
       "    </tr>\n",
       "    <tr>\n",
       "      <th>2</th>\n",
       "      <td>3</td>\n",
       "      <td>M</td>\n",
       "      <td>28</td>\n",
       "      <td>L</td>\n",
       "      <td>MDD, Single Episode, Severe With Psychotic Fea...</td>\n",
       "      <td>I</td>\n",
       "      <td>G</td>\n",
       "      <td>C</td>\n",
       "      <td>376</td>\n",
       "      <td>0</td>\n",
       "      <td>...</td>\n",
       "      <td>0</td>\n",
       "      <td>0</td>\n",
       "      <td>15</td>\n",
       "      <td>0</td>\n",
       "      <td>4</td>\n",
       "      <td>0</td>\n",
       "      <td>0</td>\n",
       "      <td>6</td>\n",
       "      <td>64</td>\n",
       "      <td>CT</td>\n",
       "    </tr>\n",
       "  </tbody>\n",
       "</table>\n",
       "<p>3 rows × 43 columns</p>\n",
       "</div>"
      ],
      "text/plain": [
       "   ID GENDER  AGE RACE/ETHNICITY  \\\n",
       "0   1      F   49              W   \n",
       "1   2      F   21              W   \n",
       "2   3      M   28              L   \n",
       "\n",
       "                                           Diagnosis MD Assignment EMR  LOS  \\\n",
       "0                        MDD, Recurrent, Unspecified  L          G   C   70   \n",
       "1                        MDD, Recurrent, Unspecified  A          G   C  309   \n",
       "2  MDD, Single Episode, Severe With Psychotic Fea...  I          G   C  376   \n",
       "\n",
       "   RAR  ...  X   Y   Z  AA  AB  AC  AD  # Psychotropic Medications  \\\n",
       "0    0  ...  0   0   0   0   1   0   0                           3   \n",
       "1    0  ...  0  13   0   0   0   0   0                           3   \n",
       "2    0  ...  0   0  15   0   4   0   0                           6   \n",
       "\n",
       "   # Administrations  Therapeutic Guidances  \n",
       "0                  6                     EG  \n",
       "1                 27                     CT  \n",
       "2                 64                     CT  \n",
       "\n",
       "[3 rows x 43 columns]"
      ]
     },
     "execution_count": 103,
     "metadata": {},
     "output_type": "execute_result"
    }
   ],
   "source": [
    "clinic_df = pd.read_csv(\"../data/Dataset.csv\")\n",
    "clinic_df.head(3)"
   ]
  },
  {
   "cell_type": "code",
   "execution_count": 104,
   "id": "10cd6da9",
   "metadata": {},
   "outputs": [
    {
     "data": {
      "text/plain": [
       "(1500, 43)"
      ]
     },
     "execution_count": 104,
     "metadata": {},
     "output_type": "execute_result"
    }
   ],
   "source": [
    "clinic_df.shape"
   ]
  },
  {
   "cell_type": "code",
   "execution_count": 105,
   "id": "999f1413",
   "metadata": {},
   "outputs": [
    {
     "name": "stdout",
     "output_type": "stream",
     "text": [
      "<class 'pandas.core.frame.DataFrame'>\n",
      "RangeIndex: 1500 entries, 0 to 1499\n",
      "Data columns (total 43 columns):\n",
      " #   Column                      Non-Null Count  Dtype \n",
      "---  ------                      --------------  ----- \n",
      " 0   ID                          1500 non-null   int64 \n",
      " 1   GENDER                      1500 non-null   object\n",
      " 2   AGE                         1500 non-null   int64 \n",
      " 3   RACE/ETHNICITY              1500 non-null   object\n",
      " 4   Diagnosis                   1500 non-null   object\n",
      " 5   MD                          1500 non-null   object\n",
      " 6   Assignment                  1459 non-null   object\n",
      " 7   EMR                         1500 non-null   object\n",
      " 8   LOS                         1500 non-null   int64 \n",
      " 9   RAR                         1500 non-null   int64 \n",
      " 10  A                           1500 non-null   int64 \n",
      " 11  B                           1500 non-null   int64 \n",
      " 12  C                           1500 non-null   int64 \n",
      " 13  D                           1500 non-null   int64 \n",
      " 14  E                           1500 non-null   int64 \n",
      " 15  F                           1500 non-null   int64 \n",
      " 16  G                           1500 non-null   int64 \n",
      " 17  H                           1500 non-null   int64 \n",
      " 18  I                           1500 non-null   int64 \n",
      " 19  J                           1500 non-null   int64 \n",
      " 20  K                           1500 non-null   int64 \n",
      " 21  L                           1500 non-null   int64 \n",
      " 22  M                           1500 non-null   int64 \n",
      " 23  N                           1500 non-null   int64 \n",
      " 24  O                           1500 non-null   int64 \n",
      " 25  P                           1500 non-null   int64 \n",
      " 26  Q                           1500 non-null   int64 \n",
      " 27  R                           1500 non-null   int64 \n",
      " 28  S                           1500 non-null   int64 \n",
      " 29  T                           1500 non-null   int64 \n",
      " 30  U                           1500 non-null   int64 \n",
      " 31  V                           1500 non-null   int64 \n",
      " 32  W                           1500 non-null   int64 \n",
      " 33  X                           1500 non-null   int64 \n",
      " 34  Y                           1500 non-null   int64 \n",
      " 35  Z                           1500 non-null   int64 \n",
      " 36  AA                          1500 non-null   int64 \n",
      " 37  AB                          1500 non-null   int64 \n",
      " 38  AC                          1500 non-null   int64 \n",
      " 39  AD                          1500 non-null   int64 \n",
      " 40  # Psychotropic Medications  1500 non-null   int64 \n",
      " 41  # Administrations           1500 non-null   int64 \n",
      " 42  Therapeutic Guidances       1459 non-null   object\n",
      "dtypes: int64(36), object(7)\n",
      "memory usage: 504.0+ KB\n"
     ]
    }
   ],
   "source": [
    "clinic_df.info()"
   ]
  },
  {
   "cell_type": "markdown",
   "id": "eddb9548",
   "metadata": {},
   "source": [
    "PART 1: Determine which Assignment group shows better result"
   ]
  },
  {
   "cell_type": "code",
   "execution_count": 106,
   "id": "e9ce7143",
   "metadata": {},
   "outputs": [],
   "source": [
    "# i.e assignment group (G and S) vs results (LOS, RAR)\n",
    "# Hypothesis: G group should show better recovery"
   ]
  },
  {
   "cell_type": "code",
   "execution_count": 107,
   "id": "ffc9cdd6",
   "metadata": {},
   "outputs": [
    {
     "data": {
      "text/html": [
       "<div>\n",
       "<style scoped>\n",
       "    .dataframe tbody tr th:only-of-type {\n",
       "        vertical-align: middle;\n",
       "    }\n",
       "\n",
       "    .dataframe tbody tr th {\n",
       "        vertical-align: top;\n",
       "    }\n",
       "\n",
       "    .dataframe thead th {\n",
       "        text-align: right;\n",
       "    }\n",
       "</style>\n",
       "<table border=\"1\" class=\"dataframe\">\n",
       "  <thead>\n",
       "    <tr style=\"text-align: right;\">\n",
       "      <th></th>\n",
       "      <th>ID</th>\n",
       "      <th>GENDER</th>\n",
       "      <th>AGE</th>\n",
       "      <th>RACE/ETHNICITY</th>\n",
       "      <th>Diagnosis</th>\n",
       "      <th>MD</th>\n",
       "      <th>Assignment</th>\n",
       "      <th>EMR</th>\n",
       "      <th>StayLength</th>\n",
       "      <th>Re_admission</th>\n",
       "      <th>...</th>\n",
       "      <th>X</th>\n",
       "      <th>Y</th>\n",
       "      <th>Z</th>\n",
       "      <th>AA</th>\n",
       "      <th>AB</th>\n",
       "      <th>AC</th>\n",
       "      <th>AD</th>\n",
       "      <th># Psychotropic Medications</th>\n",
       "      <th># Administrations</th>\n",
       "      <th>Therapeutic Guidances</th>\n",
       "    </tr>\n",
       "  </thead>\n",
       "  <tbody>\n",
       "    <tr>\n",
       "      <th>0</th>\n",
       "      <td>1</td>\n",
       "      <td>F</td>\n",
       "      <td>49</td>\n",
       "      <td>W</td>\n",
       "      <td>MDD, Recurrent, Unspecified</td>\n",
       "      <td>L</td>\n",
       "      <td>G</td>\n",
       "      <td>C</td>\n",
       "      <td>70</td>\n",
       "      <td>0</td>\n",
       "      <td>...</td>\n",
       "      <td>0</td>\n",
       "      <td>0</td>\n",
       "      <td>0</td>\n",
       "      <td>0</td>\n",
       "      <td>1</td>\n",
       "      <td>0</td>\n",
       "      <td>0</td>\n",
       "      <td>3</td>\n",
       "      <td>6</td>\n",
       "      <td>EG</td>\n",
       "    </tr>\n",
       "    <tr>\n",
       "      <th>1</th>\n",
       "      <td>2</td>\n",
       "      <td>F</td>\n",
       "      <td>21</td>\n",
       "      <td>W</td>\n",
       "      <td>MDD, Recurrent, Unspecified</td>\n",
       "      <td>A</td>\n",
       "      <td>G</td>\n",
       "      <td>C</td>\n",
       "      <td>309</td>\n",
       "      <td>0</td>\n",
       "      <td>...</td>\n",
       "      <td>0</td>\n",
       "      <td>13</td>\n",
       "      <td>0</td>\n",
       "      <td>0</td>\n",
       "      <td>0</td>\n",
       "      <td>0</td>\n",
       "      <td>0</td>\n",
       "      <td>3</td>\n",
       "      <td>27</td>\n",
       "      <td>CT</td>\n",
       "    </tr>\n",
       "    <tr>\n",
       "      <th>2</th>\n",
       "      <td>3</td>\n",
       "      <td>M</td>\n",
       "      <td>28</td>\n",
       "      <td>L</td>\n",
       "      <td>MDD, Single Episode, Severe With Psychotic Fea...</td>\n",
       "      <td>I</td>\n",
       "      <td>G</td>\n",
       "      <td>C</td>\n",
       "      <td>376</td>\n",
       "      <td>0</td>\n",
       "      <td>...</td>\n",
       "      <td>0</td>\n",
       "      <td>0</td>\n",
       "      <td>15</td>\n",
       "      <td>0</td>\n",
       "      <td>4</td>\n",
       "      <td>0</td>\n",
       "      <td>0</td>\n",
       "      <td>6</td>\n",
       "      <td>64</td>\n",
       "      <td>CT</td>\n",
       "    </tr>\n",
       "  </tbody>\n",
       "</table>\n",
       "<p>3 rows × 43 columns</p>\n",
       "</div>"
      ],
      "text/plain": [
       "   ID GENDER  AGE RACE/ETHNICITY  \\\n",
       "0   1      F   49              W   \n",
       "1   2      F   21              W   \n",
       "2   3      M   28              L   \n",
       "\n",
       "                                           Diagnosis MD Assignment EMR  \\\n",
       "0                        MDD, Recurrent, Unspecified  L          G   C   \n",
       "1                        MDD, Recurrent, Unspecified  A          G   C   \n",
       "2  MDD, Single Episode, Severe With Psychotic Fea...  I          G   C   \n",
       "\n",
       "   StayLength  Re_admission  ...  X   Y   Z  AA  AB  AC  AD  \\\n",
       "0          70             0  ...  0   0   0   0   1   0   0   \n",
       "1         309             0  ...  0  13   0   0   0   0   0   \n",
       "2         376             0  ...  0   0  15   0   4   0   0   \n",
       "\n",
       "   # Psychotropic Medications  # Administrations  Therapeutic Guidances  \n",
       "0                           3                  6                     EG  \n",
       "1                           3                 27                     CT  \n",
       "2                           6                 64                     CT  \n",
       "\n",
       "[3 rows x 43 columns]"
      ]
     },
     "execution_count": 107,
     "metadata": {},
     "output_type": "execute_result"
    }
   ],
   "source": [
    "# rename LOS, RAR\n",
    "clinic_df.rename(columns={\"LOS\": \"StayLength\", \"RAR\": \"Re_admission\"},inplace= True)\n",
    "clinic_df.head(3)"
   ]
  },
  {
   "cell_type": "code",
   "execution_count": 108,
   "id": "ba58121b",
   "metadata": {},
   "outputs": [
    {
     "data": {
      "text/plain": [
       "G      982\n",
       "S      477\n",
       "NaN     41\n",
       "Name: Assignment, dtype: int64"
      ]
     },
     "execution_count": 108,
     "metadata": {},
     "output_type": "execute_result"
    }
   ],
   "source": [
    "# Assignment has null object\n",
    "clinic_df[\"Assignment\"].value_counts(dropna= False)"
   ]
  },
  {
   "cell_type": "code",
   "execution_count": 109,
   "id": "d6cee905",
   "metadata": {},
   "outputs": [],
   "source": [
    "# 41 object has no assignment\n",
    "# convert null to S assignment\n",
    "# not being in G means effectively being S\n",
    "clinic_df[\"Assignment\"] = clinic_df[\"Assignment\"].fillna(value = \"S\")"
   ]
  },
  {
   "cell_type": "code",
   "execution_count": 110,
   "id": "53bb1c59",
   "metadata": {},
   "outputs": [
    {
     "data": {
      "text/plain": [
       "G    982\n",
       "S    518\n",
       "Name: Assignment, dtype: int64"
      ]
     },
     "execution_count": 110,
     "metadata": {},
     "output_type": "execute_result"
    }
   ],
   "source": [
    "clinic_df[\"Assignment\"].value_counts(dropna= False)"
   ]
  },
  {
   "cell_type": "markdown",
   "id": "9727bf0c",
   "metadata": {},
   "source": [
    "PART 1.1 How many cases of re-admission for each assignment group\n",
    "(Re-hospitalization within 30 days, 1 for positive, 0 for negative)"
   ]
  },
  {
   "cell_type": "code",
   "execution_count": 111,
   "id": "8947192d",
   "metadata": {},
   "outputs": [
    {
     "data": {
      "text/plain": [
       "Assignment\n",
       "G    99\n",
       "S    43\n",
       "Name: Re_admission, dtype: int64"
      ]
     },
     "execution_count": 111,
     "metadata": {},
     "output_type": "execute_result"
    }
   ],
   "source": [
    "clinic_df.groupby(\"Assignment\")[\"Re_admission\"].sum()"
   ]
  },
  {
   "cell_type": "code",
   "execution_count": 112,
   "id": "a5001234",
   "metadata": {},
   "outputs": [],
   "source": [
    "# in percent of total member in each assignment\n",
    "def convert_percent(x,y):\n",
    "    return x / y *100"
   ]
  },
  {
   "cell_type": "code",
   "execution_count": 113,
   "id": "d611475b",
   "metadata": {},
   "outputs": [
    {
     "data": {
      "text/plain": [
       "10.081466395112017"
      ]
     },
     "execution_count": 113,
     "metadata": {},
     "output_type": "execute_result"
    }
   ],
   "source": [
    "# Group G\n",
    "convert_percent(99,982)"
   ]
  },
  {
   "cell_type": "code",
   "execution_count": 114,
   "id": "797f37ec",
   "metadata": {},
   "outputs": [
    {
     "data": {
      "text/plain": [
       "8.301158301158301"
      ]
     },
     "execution_count": 114,
     "metadata": {},
     "output_type": "execute_result"
    }
   ],
   "source": [
    "# Group S\n",
    "convert_percent(43,518)"
   ]
  },
  {
   "cell_type": "markdown",
   "id": "9759608a",
   "metadata": {},
   "source": [
    "PART 1.2 Length of stay for treatment for each assignment group"
   ]
  },
  {
   "cell_type": "code",
   "execution_count": 115,
   "id": "041b379f",
   "metadata": {},
   "outputs": [
    {
     "data": {
      "text/html": [
       "<div>\n",
       "<style scoped>\n",
       "    .dataframe tbody tr th:only-of-type {\n",
       "        vertical-align: middle;\n",
       "    }\n",
       "\n",
       "    .dataframe tbody tr th {\n",
       "        vertical-align: top;\n",
       "    }\n",
       "\n",
       "    .dataframe thead th {\n",
       "        text-align: right;\n",
       "    }\n",
       "</style>\n",
       "<table border=\"1\" class=\"dataframe\">\n",
       "  <thead>\n",
       "    <tr style=\"text-align: right;\">\n",
       "      <th></th>\n",
       "      <th>count</th>\n",
       "      <th>mean</th>\n",
       "      <th>std</th>\n",
       "      <th>min</th>\n",
       "      <th>25%</th>\n",
       "      <th>50%</th>\n",
       "      <th>75%</th>\n",
       "      <th>max</th>\n",
       "    </tr>\n",
       "    <tr>\n",
       "      <th>Assignment</th>\n",
       "      <th></th>\n",
       "      <th></th>\n",
       "      <th></th>\n",
       "      <th></th>\n",
       "      <th></th>\n",
       "      <th></th>\n",
       "      <th></th>\n",
       "      <th></th>\n",
       "    </tr>\n",
       "  </thead>\n",
       "  <tbody>\n",
       "    <tr>\n",
       "      <th>G</th>\n",
       "      <td>982.0</td>\n",
       "      <td>178.511202</td>\n",
       "      <td>186.889539</td>\n",
       "      <td>14.0</td>\n",
       "      <td>90.0</td>\n",
       "      <td>139.5</td>\n",
       "      <td>189.75</td>\n",
       "      <td>2776.0</td>\n",
       "    </tr>\n",
       "    <tr>\n",
       "      <th>S</th>\n",
       "      <td>518.0</td>\n",
       "      <td>172.747104</td>\n",
       "      <td>147.474404</td>\n",
       "      <td>6.0</td>\n",
       "      <td>89.0</td>\n",
       "      <td>135.0</td>\n",
       "      <td>202.00</td>\n",
       "      <td>1629.0</td>\n",
       "    </tr>\n",
       "  </tbody>\n",
       "</table>\n",
       "</div>"
      ],
      "text/plain": [
       "            count        mean         std   min   25%    50%     75%     max\n",
       "Assignment                                                                  \n",
       "G           982.0  178.511202  186.889539  14.0  90.0  139.5  189.75  2776.0\n",
       "S           518.0  172.747104  147.474404   6.0  89.0  135.0  202.00  1629.0"
      ]
     },
     "execution_count": 115,
     "metadata": {},
     "output_type": "execute_result"
    }
   ],
   "source": [
    "clinic_df.groupby(\"Assignment\")[\"StayLength\"].describe()"
   ]
  },
  {
   "cell_type": "code",
   "execution_count": 116,
   "id": "86b60e55",
   "metadata": {},
   "outputs": [],
   "source": [
    "boxpfG = clinic_df[clinic_df[\"Assignment\"]==\"G\"][\"StayLength\"]"
   ]
  },
  {
   "cell_type": "code",
   "execution_count": 117,
   "id": "059ea170",
   "metadata": {},
   "outputs": [
    {
     "data": {
      "text/plain": [
       "0      70\n",
       "1     309\n",
       "2     376\n",
       "3     115\n",
       "6     113\n",
       "8      44\n",
       "10     67\n",
       "11    135\n",
       "12    170\n",
       "13    156\n",
       "14    104\n",
       "15     18\n",
       "17    140\n",
       "18    142\n",
       "19    116\n",
       "Name: StayLength, dtype: int64"
      ]
     },
     "execution_count": 117,
     "metadata": {},
     "output_type": "execute_result"
    }
   ],
   "source": [
    "boxpfG.head(15)"
   ]
  },
  {
   "cell_type": "code",
   "execution_count": 118,
   "id": "36e9ee5a",
   "metadata": {},
   "outputs": [
    {
     "data": {
      "text/plain": [
       "(982,)"
      ]
     },
     "execution_count": 118,
     "metadata": {},
     "output_type": "execute_result"
    }
   ],
   "source": [
    "boxpfG.shape"
   ]
  },
  {
   "cell_type": "code",
   "execution_count": 119,
   "id": "67d22641",
   "metadata": {},
   "outputs": [
    {
     "data": {
      "text/plain": [
       "<AxesSubplot:>"
      ]
     },
     "execution_count": 119,
     "metadata": {},
     "output_type": "execute_result"
    },
    {
     "data": {
      "image/png": "[encoded data removed]",
      "text/plain": [
       "<Figure size 288x576 with 1 Axes>"
      ]
     },
     "metadata": {
      "needs_background": "light"
     },
     "output_type": "display_data"
    }
   ],
   "source": [
    "plt.rcParams[\"figure.figsize\"] = (4,8)\n",
    "boxpfG.plot(kind = \"box\")"
   ]
  },
  {
   "cell_type": "code",
   "execution_count": 120,
   "id": "f42ea1b9",
   "metadata": {},
   "outputs": [],
   "source": [
    "# there are methods in scipy"
   ]
  },
  {
   "cell_type": "code",
   "execution_count": 121,
   "id": "483b9ee1",
   "metadata": {},
   "outputs": [
    {
     "data": {
      "text/html": [
       "<div>\n",
       "<style scoped>\n",
       "    .dataframe tbody tr th:only-of-type {\n",
       "        vertical-align: middle;\n",
       "    }\n",
       "\n",
       "    .dataframe tbody tr th {\n",
       "        vertical-align: top;\n",
       "    }\n",
       "\n",
       "    .dataframe thead th {\n",
       "        text-align: right;\n",
       "    }\n",
       "</style>\n",
       "<table border=\"1\" class=\"dataframe\">\n",
       "  <thead>\n",
       "    <tr style=\"text-align: right;\">\n",
       "      <th></th>\n",
       "      <th>ID</th>\n",
       "      <th>GENDER</th>\n",
       "      <th>AGE</th>\n",
       "      <th>RACE/ETHNICITY</th>\n",
       "      <th>Diagnosis</th>\n",
       "      <th>MD</th>\n",
       "      <th>Assignment</th>\n",
       "      <th>EMR</th>\n",
       "      <th>StayLength</th>\n",
       "      <th>Re_admission</th>\n",
       "      <th>...</th>\n",
       "      <th>X</th>\n",
       "      <th>Y</th>\n",
       "      <th>Z</th>\n",
       "      <th>AA</th>\n",
       "      <th>AB</th>\n",
       "      <th>AC</th>\n",
       "      <th>AD</th>\n",
       "      <th># Psychotropic Medications</th>\n",
       "      <th># Administrations</th>\n",
       "      <th>Therapeutic Guidances</th>\n",
       "    </tr>\n",
       "  </thead>\n",
       "  <tbody>\n",
       "    <tr>\n",
       "      <th>425</th>\n",
       "      <td>426</td>\n",
       "      <td>M</td>\n",
       "      <td>21</td>\n",
       "      <td>W</td>\n",
       "      <td>MDD, Single Episode, Severe With Psychotic Fea...</td>\n",
       "      <td>W</td>\n",
       "      <td>G</td>\n",
       "      <td>C</td>\n",
       "      <td>2776</td>\n",
       "      <td>0</td>\n",
       "      <td>...</td>\n",
       "      <td>0</td>\n",
       "      <td>12</td>\n",
       "      <td>0</td>\n",
       "      <td>0</td>\n",
       "      <td>26</td>\n",
       "      <td>0</td>\n",
       "      <td>0</td>\n",
       "      <td>6</td>\n",
       "      <td>175</td>\n",
       "      <td>EG</td>\n",
       "    </tr>\n",
       "    <tr>\n",
       "      <th>1059</th>\n",
       "      <td>1060</td>\n",
       "      <td>F</td>\n",
       "      <td>66</td>\n",
       "      <td>W</td>\n",
       "      <td>Unspecified Depressive Disorder</td>\n",
       "      <td>T</td>\n",
       "      <td>G</td>\n",
       "      <td>E</td>\n",
       "      <td>2685</td>\n",
       "      <td>0</td>\n",
       "      <td>...</td>\n",
       "      <td>0</td>\n",
       "      <td>0</td>\n",
       "      <td>0</td>\n",
       "      <td>0</td>\n",
       "      <td>111</td>\n",
       "      <td>0</td>\n",
       "      <td>0</td>\n",
       "      <td>6</td>\n",
       "      <td>448</td>\n",
       "      <td>EG</td>\n",
       "    </tr>\n",
       "    <tr>\n",
       "      <th>756</th>\n",
       "      <td>757</td>\n",
       "      <td>F</td>\n",
       "      <td>30</td>\n",
       "      <td>W</td>\n",
       "      <td>MDD</td>\n",
       "      <td>R</td>\n",
       "      <td>G</td>\n",
       "      <td>E</td>\n",
       "      <td>1223</td>\n",
       "      <td>0</td>\n",
       "      <td>...</td>\n",
       "      <td>0</td>\n",
       "      <td>51</td>\n",
       "      <td>0</td>\n",
       "      <td>6</td>\n",
       "      <td>0</td>\n",
       "      <td>0</td>\n",
       "      <td>8</td>\n",
       "      <td>4</td>\n",
       "      <td>70</td>\n",
       "      <td>EG</td>\n",
       "    </tr>\n",
       "    <tr>\n",
       "      <th>839</th>\n",
       "      <td>840</td>\n",
       "      <td>M</td>\n",
       "      <td>25</td>\n",
       "      <td>W</td>\n",
       "      <td>MDD, Recurrent, Severe Without Psychotic Features</td>\n",
       "      <td>T</td>\n",
       "      <td>G</td>\n",
       "      <td>E</td>\n",
       "      <td>1215</td>\n",
       "      <td>1</td>\n",
       "      <td>...</td>\n",
       "      <td>59</td>\n",
       "      <td>2</td>\n",
       "      <td>0</td>\n",
       "      <td>0</td>\n",
       "      <td>45</td>\n",
       "      <td>0</td>\n",
       "      <td>4</td>\n",
       "      <td>8</td>\n",
       "      <td>267</td>\n",
       "      <td>CT</td>\n",
       "    </tr>\n",
       "    <tr>\n",
       "      <th>386</th>\n",
       "      <td>387</td>\n",
       "      <td>F</td>\n",
       "      <td>36</td>\n",
       "      <td>L</td>\n",
       "      <td>Depressive Disorder NOS</td>\n",
       "      <td>W</td>\n",
       "      <td>G</td>\n",
       "      <td>C</td>\n",
       "      <td>1168</td>\n",
       "      <td>0</td>\n",
       "      <td>...</td>\n",
       "      <td>0</td>\n",
       "      <td>28</td>\n",
       "      <td>0</td>\n",
       "      <td>0</td>\n",
       "      <td>33</td>\n",
       "      <td>0</td>\n",
       "      <td>0</td>\n",
       "      <td>4</td>\n",
       "      <td>113</td>\n",
       "      <td>EG</td>\n",
       "    </tr>\n",
       "    <tr>\n",
       "      <th>644</th>\n",
       "      <td>645</td>\n",
       "      <td>F</td>\n",
       "      <td>35</td>\n",
       "      <td>W</td>\n",
       "      <td>MDD</td>\n",
       "      <td>T</td>\n",
       "      <td>G</td>\n",
       "      <td>E</td>\n",
       "      <td>1126</td>\n",
       "      <td>0</td>\n",
       "      <td>...</td>\n",
       "      <td>0</td>\n",
       "      <td>0</td>\n",
       "      <td>0</td>\n",
       "      <td>0</td>\n",
       "      <td>13</td>\n",
       "      <td>0</td>\n",
       "      <td>0</td>\n",
       "      <td>5</td>\n",
       "      <td>107</td>\n",
       "      <td>CT</td>\n",
       "    </tr>\n",
       "    <tr>\n",
       "      <th>883</th>\n",
       "      <td>884</td>\n",
       "      <td>F</td>\n",
       "      <td>73</td>\n",
       "      <td>W</td>\n",
       "      <td>MDD</td>\n",
       "      <td>M</td>\n",
       "      <td>G</td>\n",
       "      <td>E</td>\n",
       "      <td>1032</td>\n",
       "      <td>0</td>\n",
       "      <td>...</td>\n",
       "      <td>0</td>\n",
       "      <td>0</td>\n",
       "      <td>66</td>\n",
       "      <td>0</td>\n",
       "      <td>43</td>\n",
       "      <td>14</td>\n",
       "      <td>0</td>\n",
       "      <td>6</td>\n",
       "      <td>140</td>\n",
       "      <td>TL</td>\n",
       "    </tr>\n",
       "    <tr>\n",
       "      <th>314</th>\n",
       "      <td>315</td>\n",
       "      <td>F</td>\n",
       "      <td>39</td>\n",
       "      <td>W</td>\n",
       "      <td>Depressive Disorder NOS</td>\n",
       "      <td>D</td>\n",
       "      <td>G</td>\n",
       "      <td>C</td>\n",
       "      <td>1001</td>\n",
       "      <td>0</td>\n",
       "      <td>...</td>\n",
       "      <td>0</td>\n",
       "      <td>1</td>\n",
       "      <td>45</td>\n",
       "      <td>0</td>\n",
       "      <td>57</td>\n",
       "      <td>30</td>\n",
       "      <td>0</td>\n",
       "      <td>9</td>\n",
       "      <td>242</td>\n",
       "      <td>CT</td>\n",
       "    </tr>\n",
       "    <tr>\n",
       "      <th>946</th>\n",
       "      <td>947</td>\n",
       "      <td>F</td>\n",
       "      <td>53</td>\n",
       "      <td>W</td>\n",
       "      <td>MDD</td>\n",
       "      <td>B</td>\n",
       "      <td>G</td>\n",
       "      <td>E</td>\n",
       "      <td>974</td>\n",
       "      <td>0</td>\n",
       "      <td>...</td>\n",
       "      <td>0</td>\n",
       "      <td>0</td>\n",
       "      <td>0</td>\n",
       "      <td>0</td>\n",
       "      <td>0</td>\n",
       "      <td>8</td>\n",
       "      <td>0</td>\n",
       "      <td>6</td>\n",
       "      <td>99</td>\n",
       "      <td>EG</td>\n",
       "    </tr>\n",
       "    <tr>\n",
       "      <th>1223</th>\n",
       "      <td>1224</td>\n",
       "      <td>F</td>\n",
       "      <td>26</td>\n",
       "      <td>O/U</td>\n",
       "      <td>MDD, Recurrent, Unspecified</td>\n",
       "      <td>G</td>\n",
       "      <td>G</td>\n",
       "      <td>C</td>\n",
       "      <td>953</td>\n",
       "      <td>0</td>\n",
       "      <td>...</td>\n",
       "      <td>0</td>\n",
       "      <td>70</td>\n",
       "      <td>0</td>\n",
       "      <td>0</td>\n",
       "      <td>39</td>\n",
       "      <td>11</td>\n",
       "      <td>0</td>\n",
       "      <td>6</td>\n",
       "      <td>165</td>\n",
       "      <td>CT</td>\n",
       "    </tr>\n",
       "    <tr>\n",
       "      <th>788</th>\n",
       "      <td>789</td>\n",
       "      <td>M</td>\n",
       "      <td>48</td>\n",
       "      <td>W</td>\n",
       "      <td>MDD</td>\n",
       "      <td>R</td>\n",
       "      <td>G</td>\n",
       "      <td>E</td>\n",
       "      <td>887</td>\n",
       "      <td>0</td>\n",
       "      <td>...</td>\n",
       "      <td>0</td>\n",
       "      <td>51</td>\n",
       "      <td>0</td>\n",
       "      <td>0</td>\n",
       "      <td>0</td>\n",
       "      <td>0</td>\n",
       "      <td>41</td>\n",
       "      <td>4</td>\n",
       "      <td>168</td>\n",
       "      <td>CT</td>\n",
       "    </tr>\n",
       "    <tr>\n",
       "      <th>858</th>\n",
       "      <td>859</td>\n",
       "      <td>F</td>\n",
       "      <td>25</td>\n",
       "      <td>W</td>\n",
       "      <td>Depressive Disorder NOS</td>\n",
       "      <td>B</td>\n",
       "      <td>G</td>\n",
       "      <td>E</td>\n",
       "      <td>779</td>\n",
       "      <td>1</td>\n",
       "      <td>...</td>\n",
       "      <td>0</td>\n",
       "      <td>16</td>\n",
       "      <td>0</td>\n",
       "      <td>2</td>\n",
       "      <td>2</td>\n",
       "      <td>0</td>\n",
       "      <td>4</td>\n",
       "      <td>8</td>\n",
       "      <td>98</td>\n",
       "      <td>CT</td>\n",
       "    </tr>\n",
       "    <tr>\n",
       "      <th>1112</th>\n",
       "      <td>1113</td>\n",
       "      <td>M</td>\n",
       "      <td>47</td>\n",
       "      <td>W</td>\n",
       "      <td>MDD, Recurrent, Severe Without Psychotic Features</td>\n",
       "      <td>U</td>\n",
       "      <td>G</td>\n",
       "      <td>E</td>\n",
       "      <td>756</td>\n",
       "      <td>0</td>\n",
       "      <td>...</td>\n",
       "      <td>0</td>\n",
       "      <td>12</td>\n",
       "      <td>2</td>\n",
       "      <td>0</td>\n",
       "      <td>22</td>\n",
       "      <td>0</td>\n",
       "      <td>2</td>\n",
       "      <td>7</td>\n",
       "      <td>94</td>\n",
       "      <td>CT</td>\n",
       "    </tr>\n",
       "    <tr>\n",
       "      <th>967</th>\n",
       "      <td>968</td>\n",
       "      <td>F</td>\n",
       "      <td>61</td>\n",
       "      <td>W</td>\n",
       "      <td>Depression</td>\n",
       "      <td>T</td>\n",
       "      <td>G</td>\n",
       "      <td>E</td>\n",
       "      <td>752</td>\n",
       "      <td>0</td>\n",
       "      <td>...</td>\n",
       "      <td>0</td>\n",
       "      <td>0</td>\n",
       "      <td>0</td>\n",
       "      <td>1</td>\n",
       "      <td>23</td>\n",
       "      <td>0</td>\n",
       "      <td>0</td>\n",
       "      <td>3</td>\n",
       "      <td>33</td>\n",
       "      <td>EG</td>\n",
       "    </tr>\n",
       "    <tr>\n",
       "      <th>405</th>\n",
       "      <td>406</td>\n",
       "      <td>M</td>\n",
       "      <td>47</td>\n",
       "      <td>W</td>\n",
       "      <td>MDD, Recurrent, Unspecified</td>\n",
       "      <td>N</td>\n",
       "      <td>G</td>\n",
       "      <td>C</td>\n",
       "      <td>747</td>\n",
       "      <td>1</td>\n",
       "      <td>...</td>\n",
       "      <td>0</td>\n",
       "      <td>0</td>\n",
       "      <td>0</td>\n",
       "      <td>0</td>\n",
       "      <td>0</td>\n",
       "      <td>0</td>\n",
       "      <td>0</td>\n",
       "      <td>3</td>\n",
       "      <td>87</td>\n",
       "      <td>EG</td>\n",
       "    </tr>\n",
       "  </tbody>\n",
       "</table>\n",
       "<p>15 rows × 43 columns</p>\n",
       "</div>"
      ],
      "text/plain": [
       "        ID GENDER  AGE RACE/ETHNICITY  \\\n",
       "425    426      M   21              W   \n",
       "1059  1060      F   66              W   \n",
       "756    757      F   30              W   \n",
       "839    840      M   25              W   \n",
       "386    387      F   36              L   \n",
       "644    645      F   35              W   \n",
       "883    884      F   73              W   \n",
       "314    315      F   39              W   \n",
       "946    947      F   53              W   \n",
       "1223  1224      F   26            O/U   \n",
       "788    789      M   48              W   \n",
       "858    859      F   25              W   \n",
       "1112  1113      M   47              W   \n",
       "967    968      F   61              W   \n",
       "405    406      M   47              W   \n",
       "\n",
       "                                              Diagnosis MD Assignment EMR  \\\n",
       "425   MDD, Single Episode, Severe With Psychotic Fea...  W          G   C   \n",
       "1059                    Unspecified Depressive Disorder  T          G   E   \n",
       "756                                                 MDD  R          G   E   \n",
       "839   MDD, Recurrent, Severe Without Psychotic Features  T          G   E   \n",
       "386                             Depressive Disorder NOS  W          G   C   \n",
       "644                                                 MDD  T          G   E   \n",
       "883                                                 MDD  M          G   E   \n",
       "314                             Depressive Disorder NOS  D          G   C   \n",
       "946                                                 MDD  B          G   E   \n",
       "1223                        MDD, Recurrent, Unspecified  G          G   C   \n",
       "788                                                 MDD  R          G   E   \n",
       "858                             Depressive Disorder NOS  B          G   E   \n",
       "1112  MDD, Recurrent, Severe Without Psychotic Features  U          G   E   \n",
       "967                                          Depression  T          G   E   \n",
       "405                         MDD, Recurrent, Unspecified  N          G   C   \n",
       "\n",
       "      StayLength  Re_admission  ...   X   Y   Z  AA   AB  AC  AD  \\\n",
       "425         2776             0  ...   0  12   0   0   26   0   0   \n",
       "1059        2685             0  ...   0   0   0   0  111   0   0   \n",
       "756         1223             0  ...   0  51   0   6    0   0   8   \n",
       "839         1215             1  ...  59   2   0   0   45   0   4   \n",
       "386         1168             0  ...   0  28   0   0   33   0   0   \n",
       "644         1126             0  ...   0   0   0   0   13   0   0   \n",
       "883         1032             0  ...   0   0  66   0   43  14   0   \n",
       "314         1001             0  ...   0   1  45   0   57  30   0   \n",
       "946          974             0  ...   0   0   0   0    0   8   0   \n",
       "1223         953             0  ...   0  70   0   0   39  11   0   \n",
       "788          887             0  ...   0  51   0   0    0   0  41   \n",
       "858          779             1  ...   0  16   0   2    2   0   4   \n",
       "1112         756             0  ...   0  12   2   0   22   0   2   \n",
       "967          752             0  ...   0   0   0   1   23   0   0   \n",
       "405          747             1  ...   0   0   0   0    0   0   0   \n",
       "\n",
       "      # Psychotropic Medications  # Administrations  Therapeutic Guidances  \n",
       "425                            6                175                     EG  \n",
       "1059                           6                448                     EG  \n",
       "756                            4                 70                     EG  \n",
       "839                            8                267                     CT  \n",
       "386                            4                113                     EG  \n",
       "644                            5                107                     CT  \n",
       "883                            6                140                     TL  \n",
       "314                            9                242                     CT  \n",
       "946                            6                 99                     EG  \n",
       "1223                           6                165                     CT  \n",
       "788                            4                168                     CT  \n",
       "858                            8                 98                     CT  \n",
       "1112                           7                 94                     CT  \n",
       "967                            3                 33                     EG  \n",
       "405                            3                 87                     EG  \n",
       "\n",
       "[15 rows x 43 columns]"
      ]
     },
     "execution_count": 121,
     "metadata": {},
     "output_type": "execute_result"
    }
   ],
   "source": [
    "# remove the top 1% (15) of data for sake of comparison\n",
    "clinic_df[clinic_df[\"Assignment\"]==\"G\"].nlargest(15,\"StayLength\")"
   ]
  },
  {
   "cell_type": "code",
   "execution_count": 122,
   "id": "e5640015",
   "metadata": {},
   "outputs": [
    {
     "data": {
      "text/plain": [
       "8"
      ]
     },
     "execution_count": 122,
     "metadata": {},
     "output_type": "execute_result"
    }
   ],
   "source": [
    "clinic_df.columns.get_loc(\"StayLength\")"
   ]
  },
  {
   "cell_type": "code",
   "execution_count": 123,
   "id": "a05ae30b",
   "metadata": {},
   "outputs": [],
   "source": [
    "boxpfGdrop = boxpfG.drop([425,1059,756,839,386,644,883,314,946,1223,788,858,1112,967,405])"
   ]
  },
  {
   "cell_type": "code",
   "execution_count": 124,
   "id": "fca23c44",
   "metadata": {},
   "outputs": [
    {
     "data": {
      "text/plain": [
       "(967,)"
      ]
     },
     "execution_count": 124,
     "metadata": {},
     "output_type": "execute_result"
    }
   ],
   "source": [
    "boxpfGdrop.shape"
   ]
  },
  {
   "cell_type": "code",
   "execution_count": 125,
   "id": "a1dbcc09",
   "metadata": {},
   "outputs": [
    {
     "data": {
      "text/plain": [
       "count    967.000000\n",
       "mean     162.589452\n",
       "std      113.579726\n",
       "min       14.000000\n",
       "25%       90.000000\n",
       "50%      138.000000\n",
       "75%      188.000000\n",
       "max      723.000000\n",
       "Name: StayLength, dtype: float64"
      ]
     },
     "execution_count": 125,
     "metadata": {},
     "output_type": "execute_result"
    }
   ],
   "source": [
    "# new describe for G without top 1% outlier\n",
    "boxpfGdrop.describe()"
   ]
  },
  {
   "cell_type": "code",
   "execution_count": 126,
   "id": "95eced72",
   "metadata": {},
   "outputs": [
    {
     "data": {
      "text/html": [
       "<div>\n",
       "<style scoped>\n",
       "    .dataframe tbody tr th:only-of-type {\n",
       "        vertical-align: middle;\n",
       "    }\n",
       "\n",
       "    .dataframe tbody tr th {\n",
       "        vertical-align: top;\n",
       "    }\n",
       "\n",
       "    .dataframe thead th {\n",
       "        text-align: right;\n",
       "    }\n",
       "</style>\n",
       "<table border=\"1\" class=\"dataframe\">\n",
       "  <thead>\n",
       "    <tr style=\"text-align: right;\">\n",
       "      <th></th>\n",
       "      <th>count</th>\n",
       "      <th>mean</th>\n",
       "      <th>std</th>\n",
       "      <th>min</th>\n",
       "      <th>25%</th>\n",
       "      <th>50%</th>\n",
       "      <th>75%</th>\n",
       "      <th>max</th>\n",
       "    </tr>\n",
       "    <tr>\n",
       "      <th>Assignment</th>\n",
       "      <th></th>\n",
       "      <th></th>\n",
       "      <th></th>\n",
       "      <th></th>\n",
       "      <th></th>\n",
       "      <th></th>\n",
       "      <th></th>\n",
       "      <th></th>\n",
       "    </tr>\n",
       "  </thead>\n",
       "  <tbody>\n",
       "    <tr>\n",
       "      <th>G</th>\n",
       "      <td>982.0</td>\n",
       "      <td>178.511202</td>\n",
       "      <td>186.889539</td>\n",
       "      <td>14.0</td>\n",
       "      <td>90.0</td>\n",
       "      <td>139.5</td>\n",
       "      <td>189.75</td>\n",
       "      <td>2776.0</td>\n",
       "    </tr>\n",
       "    <tr>\n",
       "      <th>S</th>\n",
       "      <td>518.0</td>\n",
       "      <td>172.747104</td>\n",
       "      <td>147.474404</td>\n",
       "      <td>6.0</td>\n",
       "      <td>89.0</td>\n",
       "      <td>135.0</td>\n",
       "      <td>202.00</td>\n",
       "      <td>1629.0</td>\n",
       "    </tr>\n",
       "  </tbody>\n",
       "</table>\n",
       "</div>"
      ],
      "text/plain": [
       "            count        mean         std   min   25%    50%     75%     max\n",
       "Assignment                                                                  \n",
       "G           982.0  178.511202  186.889539  14.0  90.0  139.5  189.75  2776.0\n",
       "S           518.0  172.747104  147.474404   6.0  89.0  135.0  202.00  1629.0"
      ]
     },
     "execution_count": 126,
     "metadata": {},
     "output_type": "execute_result"
    }
   ],
   "source": [
    "# for comparison with full data\n",
    "clinic_df.groupby(\"Assignment\")[\"StayLength\"].describe()"
   ]
  },
  {
   "cell_type": "code",
   "execution_count": 127,
   "id": "8551ceb9",
   "metadata": {},
   "outputs": [],
   "source": [
    "boxpfS = clinic_df[clinic_df[\"Assignment\"]==\"S\"][\"StayLength\"]"
   ]
  },
  {
   "cell_type": "code",
   "execution_count": 128,
   "id": "11d79979",
   "metadata": {},
   "outputs": [
    {
     "data": {
      "text/plain": [
       "(518,)"
      ]
     },
     "execution_count": 128,
     "metadata": {},
     "output_type": "execute_result"
    }
   ],
   "source": [
    "boxpfS.shape"
   ]
  },
  {
   "cell_type": "code",
   "execution_count": 129,
   "id": "6b882a44",
   "metadata": {},
   "outputs": [
    {
     "data": {
      "text/plain": [
       "<AxesSubplot:>"
      ]
     },
     "execution_count": 129,
     "metadata": {},
     "output_type": "execute_result"
    },
    {
     "data": {
      "image/png": "[encoded data removed]",
      "text/plain": [
       "<Figure size 288x576 with 1 Axes>"
      ]
     },
     "metadata": {
      "needs_background": "light"
     },
     "output_type": "display_data"
    }
   ],
   "source": [
    "boxpfS.plot(kind = \"box\")"
   ]
  },
  {
   "cell_type": "code",
   "execution_count": 130,
   "id": "2404e55e",
   "metadata": {},
   "outputs": [
    {
     "data": {
      "text/html": [
       "<div>\n",
       "<style scoped>\n",
       "    .dataframe tbody tr th:only-of-type {\n",
       "        vertical-align: middle;\n",
       "    }\n",
       "\n",
       "    .dataframe tbody tr th {\n",
       "        vertical-align: top;\n",
       "    }\n",
       "\n",
       "    .dataframe thead th {\n",
       "        text-align: right;\n",
       "    }\n",
       "</style>\n",
       "<table border=\"1\" class=\"dataframe\">\n",
       "  <thead>\n",
       "    <tr style=\"text-align: right;\">\n",
       "      <th></th>\n",
       "      <th>ID</th>\n",
       "      <th>GENDER</th>\n",
       "      <th>AGE</th>\n",
       "      <th>RACE/ETHNICITY</th>\n",
       "      <th>Diagnosis</th>\n",
       "      <th>MD</th>\n",
       "      <th>Assignment</th>\n",
       "      <th>EMR</th>\n",
       "      <th>StayLength</th>\n",
       "      <th>Re_admission</th>\n",
       "      <th>...</th>\n",
       "      <th>X</th>\n",
       "      <th>Y</th>\n",
       "      <th>Z</th>\n",
       "      <th>AA</th>\n",
       "      <th>AB</th>\n",
       "      <th>AC</th>\n",
       "      <th>AD</th>\n",
       "      <th># Psychotropic Medications</th>\n",
       "      <th># Administrations</th>\n",
       "      <th>Therapeutic Guidances</th>\n",
       "    </tr>\n",
       "  </thead>\n",
       "  <tbody>\n",
       "    <tr>\n",
       "      <th>1127</th>\n",
       "      <td>1128</td>\n",
       "      <td>M</td>\n",
       "      <td>20</td>\n",
       "      <td>W</td>\n",
       "      <td>Depressive Disorder NOS</td>\n",
       "      <td>B</td>\n",
       "      <td>S</td>\n",
       "      <td>C</td>\n",
       "      <td>1629</td>\n",
       "      <td>0</td>\n",
       "      <td>...</td>\n",
       "      <td>0</td>\n",
       "      <td>0</td>\n",
       "      <td>73</td>\n",
       "      <td>0</td>\n",
       "      <td>2</td>\n",
       "      <td>0</td>\n",
       "      <td>0</td>\n",
       "      <td>2</td>\n",
       "      <td>75</td>\n",
       "      <td>EG</td>\n",
       "    </tr>\n",
       "    <tr>\n",
       "      <th>401</th>\n",
       "      <td>402</td>\n",
       "      <td>M</td>\n",
       "      <td>21</td>\n",
       "      <td>W</td>\n",
       "      <td>Depressive Disorder NOS</td>\n",
       "      <td>W</td>\n",
       "      <td>S</td>\n",
       "      <td>C</td>\n",
       "      <td>1162</td>\n",
       "      <td>0</td>\n",
       "      <td>...</td>\n",
       "      <td>0</td>\n",
       "      <td>134</td>\n",
       "      <td>0</td>\n",
       "      <td>50</td>\n",
       "      <td>29</td>\n",
       "      <td>0</td>\n",
       "      <td>0</td>\n",
       "      <td>6</td>\n",
       "      <td>296</td>\n",
       "      <td>EG</td>\n",
       "    </tr>\n",
       "    <tr>\n",
       "      <th>228</th>\n",
       "      <td>229</td>\n",
       "      <td>M</td>\n",
       "      <td>25</td>\n",
       "      <td>L</td>\n",
       "      <td>Depressive Disorder NOS</td>\n",
       "      <td>D</td>\n",
       "      <td>S</td>\n",
       "      <td>C</td>\n",
       "      <td>1009</td>\n",
       "      <td>0</td>\n",
       "      <td>...</td>\n",
       "      <td>0</td>\n",
       "      <td>0</td>\n",
       "      <td>0</td>\n",
       "      <td>0</td>\n",
       "      <td>29</td>\n",
       "      <td>0</td>\n",
       "      <td>0</td>\n",
       "      <td>3</td>\n",
       "      <td>133</td>\n",
       "      <td>EG</td>\n",
       "    </tr>\n",
       "    <tr>\n",
       "      <th>424</th>\n",
       "      <td>425</td>\n",
       "      <td>F</td>\n",
       "      <td>50</td>\n",
       "      <td>W</td>\n",
       "      <td>MDD, Single Episode,Severe Without Psychotic F...</td>\n",
       "      <td>W</td>\n",
       "      <td>S</td>\n",
       "      <td>C</td>\n",
       "      <td>859</td>\n",
       "      <td>0</td>\n",
       "      <td>...</td>\n",
       "      <td>0</td>\n",
       "      <td>0</td>\n",
       "      <td>0</td>\n",
       "      <td>36</td>\n",
       "      <td>22</td>\n",
       "      <td>0</td>\n",
       "      <td>0</td>\n",
       "      <td>4</td>\n",
       "      <td>64</td>\n",
       "      <td>EG</td>\n",
       "    </tr>\n",
       "    <tr>\n",
       "      <th>984</th>\n",
       "      <td>985</td>\n",
       "      <td>F</td>\n",
       "      <td>59</td>\n",
       "      <td>W</td>\n",
       "      <td>MDD</td>\n",
       "      <td>Q</td>\n",
       "      <td>S</td>\n",
       "      <td>E</td>\n",
       "      <td>692</td>\n",
       "      <td>0</td>\n",
       "      <td>...</td>\n",
       "      <td>0</td>\n",
       "      <td>5</td>\n",
       "      <td>0</td>\n",
       "      <td>0</td>\n",
       "      <td>5</td>\n",
       "      <td>14</td>\n",
       "      <td>0</td>\n",
       "      <td>6</td>\n",
       "      <td>66</td>\n",
       "      <td>EG</td>\n",
       "    </tr>\n",
       "    <tr>\n",
       "      <th>222</th>\n",
       "      <td>223</td>\n",
       "      <td>M</td>\n",
       "      <td>28</td>\n",
       "      <td>W</td>\n",
       "      <td>MDD, Single Episode,Severe Without Psychotic F...</td>\n",
       "      <td>T</td>\n",
       "      <td>S</td>\n",
       "      <td>C</td>\n",
       "      <td>671</td>\n",
       "      <td>0</td>\n",
       "      <td>...</td>\n",
       "      <td>0</td>\n",
       "      <td>0</td>\n",
       "      <td>0</td>\n",
       "      <td>5</td>\n",
       "      <td>10</td>\n",
       "      <td>3</td>\n",
       "      <td>0</td>\n",
       "      <td>7</td>\n",
       "      <td>43</td>\n",
       "      <td>EG</td>\n",
       "    </tr>\n",
       "    <tr>\n",
       "      <th>1463</th>\n",
       "      <td>1464</td>\n",
       "      <td>M</td>\n",
       "      <td>45</td>\n",
       "      <td>W</td>\n",
       "      <td>MDD, Single Episode,Severe Without Psychotic F...</td>\n",
       "      <td>B</td>\n",
       "      <td>S</td>\n",
       "      <td>C</td>\n",
       "      <td>629</td>\n",
       "      <td>0</td>\n",
       "      <td>...</td>\n",
       "      <td>0</td>\n",
       "      <td>27</td>\n",
       "      <td>0</td>\n",
       "      <td>0</td>\n",
       "      <td>26</td>\n",
       "      <td>0</td>\n",
       "      <td>0</td>\n",
       "      <td>5</td>\n",
       "      <td>102</td>\n",
       "      <td>EG</td>\n",
       "    </tr>\n",
       "    <tr>\n",
       "      <th>703</th>\n",
       "      <td>704</td>\n",
       "      <td>M</td>\n",
       "      <td>61</td>\n",
       "      <td>W</td>\n",
       "      <td>MDD</td>\n",
       "      <td>Q</td>\n",
       "      <td>S</td>\n",
       "      <td>E</td>\n",
       "      <td>613</td>\n",
       "      <td>0</td>\n",
       "      <td>...</td>\n",
       "      <td>0</td>\n",
       "      <td>11</td>\n",
       "      <td>17</td>\n",
       "      <td>0</td>\n",
       "      <td>15</td>\n",
       "      <td>8</td>\n",
       "      <td>0</td>\n",
       "      <td>4</td>\n",
       "      <td>51</td>\n",
       "      <td>EG</td>\n",
       "    </tr>\n",
       "    <tr>\n",
       "      <th>1037</th>\n",
       "      <td>1038</td>\n",
       "      <td>M</td>\n",
       "      <td>55</td>\n",
       "      <td>W</td>\n",
       "      <td>MDD</td>\n",
       "      <td>O</td>\n",
       "      <td>S</td>\n",
       "      <td>E</td>\n",
       "      <td>598</td>\n",
       "      <td>0</td>\n",
       "      <td>...</td>\n",
       "      <td>0</td>\n",
       "      <td>4</td>\n",
       "      <td>6</td>\n",
       "      <td>6</td>\n",
       "      <td>17</td>\n",
       "      <td>4</td>\n",
       "      <td>0</td>\n",
       "      <td>9</td>\n",
       "      <td>76</td>\n",
       "      <td>EG</td>\n",
       "    </tr>\n",
       "    <tr>\n",
       "      <th>1175</th>\n",
       "      <td>1176</td>\n",
       "      <td>F</td>\n",
       "      <td>28</td>\n",
       "      <td>W</td>\n",
       "      <td>MDD, Recurrent, Severe Without Psychotic Features</td>\n",
       "      <td>T</td>\n",
       "      <td>S</td>\n",
       "      <td>C</td>\n",
       "      <td>530</td>\n",
       "      <td>0</td>\n",
       "      <td>...</td>\n",
       "      <td>0</td>\n",
       "      <td>0</td>\n",
       "      <td>0</td>\n",
       "      <td>0</td>\n",
       "      <td>16</td>\n",
       "      <td>0</td>\n",
       "      <td>0</td>\n",
       "      <td>4</td>\n",
       "      <td>47</td>\n",
       "      <td>EG</td>\n",
       "    </tr>\n",
       "    <tr>\n",
       "      <th>489</th>\n",
       "      <td>490</td>\n",
       "      <td>M</td>\n",
       "      <td>25</td>\n",
       "      <td>W</td>\n",
       "      <td>MDD, Recurrent, Severe Without Psychotic Features</td>\n",
       "      <td>D</td>\n",
       "      <td>S</td>\n",
       "      <td>E</td>\n",
       "      <td>529</td>\n",
       "      <td>0</td>\n",
       "      <td>...</td>\n",
       "      <td>0</td>\n",
       "      <td>0</td>\n",
       "      <td>0</td>\n",
       "      <td>22</td>\n",
       "      <td>22</td>\n",
       "      <td>0</td>\n",
       "      <td>0</td>\n",
       "      <td>3</td>\n",
       "      <td>66</td>\n",
       "      <td>EG</td>\n",
       "    </tr>\n",
       "    <tr>\n",
       "      <th>1161</th>\n",
       "      <td>1162</td>\n",
       "      <td>F</td>\n",
       "      <td>68</td>\n",
       "      <td>W</td>\n",
       "      <td>MDD, Single Episode, Severe With Psychotic Fea...</td>\n",
       "      <td>L</td>\n",
       "      <td>S</td>\n",
       "      <td>C</td>\n",
       "      <td>526</td>\n",
       "      <td>0</td>\n",
       "      <td>...</td>\n",
       "      <td>0</td>\n",
       "      <td>0</td>\n",
       "      <td>59</td>\n",
       "      <td>0</td>\n",
       "      <td>7</td>\n",
       "      <td>22</td>\n",
       "      <td>0</td>\n",
       "      <td>5</td>\n",
       "      <td>91</td>\n",
       "      <td>EG</td>\n",
       "    </tr>\n",
       "    <tr>\n",
       "      <th>480</th>\n",
       "      <td>481</td>\n",
       "      <td>M</td>\n",
       "      <td>44</td>\n",
       "      <td>W</td>\n",
       "      <td>MDD, Recurrent, Unspecified</td>\n",
       "      <td>D</td>\n",
       "      <td>S</td>\n",
       "      <td>E</td>\n",
       "      <td>525</td>\n",
       "      <td>1</td>\n",
       "      <td>...</td>\n",
       "      <td>0</td>\n",
       "      <td>22</td>\n",
       "      <td>0</td>\n",
       "      <td>0</td>\n",
       "      <td>0</td>\n",
       "      <td>0</td>\n",
       "      <td>0</td>\n",
       "      <td>2</td>\n",
       "      <td>44</td>\n",
       "      <td>EG</td>\n",
       "    </tr>\n",
       "    <tr>\n",
       "      <th>937</th>\n",
       "      <td>938</td>\n",
       "      <td>M</td>\n",
       "      <td>36</td>\n",
       "      <td>W</td>\n",
       "      <td>MDD, Recurrent, Severe With Psychotic Features</td>\n",
       "      <td>U</td>\n",
       "      <td>S</td>\n",
       "      <td>E</td>\n",
       "      <td>525</td>\n",
       "      <td>0</td>\n",
       "      <td>...</td>\n",
       "      <td>0</td>\n",
       "      <td>14</td>\n",
       "      <td>0</td>\n",
       "      <td>0</td>\n",
       "      <td>0</td>\n",
       "      <td>0</td>\n",
       "      <td>0</td>\n",
       "      <td>4</td>\n",
       "      <td>62</td>\n",
       "      <td>EG</td>\n",
       "    </tr>\n",
       "    <tr>\n",
       "      <th>417</th>\n",
       "      <td>418</td>\n",
       "      <td>M</td>\n",
       "      <td>39</td>\n",
       "      <td>W</td>\n",
       "      <td>Depressive Disorder NOS</td>\n",
       "      <td>U</td>\n",
       "      <td>S</td>\n",
       "      <td>C</td>\n",
       "      <td>524</td>\n",
       "      <td>1</td>\n",
       "      <td>...</td>\n",
       "      <td>0</td>\n",
       "      <td>0</td>\n",
       "      <td>0</td>\n",
       "      <td>0</td>\n",
       "      <td>21</td>\n",
       "      <td>0</td>\n",
       "      <td>0</td>\n",
       "      <td>3</td>\n",
       "      <td>68</td>\n",
       "      <td>EG</td>\n",
       "    </tr>\n",
       "  </tbody>\n",
       "</table>\n",
       "<p>15 rows × 43 columns</p>\n",
       "</div>"
      ],
      "text/plain": [
       "        ID GENDER  AGE RACE/ETHNICITY  \\\n",
       "1127  1128      M   20              W   \n",
       "401    402      M   21              W   \n",
       "228    229      M   25              L   \n",
       "424    425      F   50              W   \n",
       "984    985      F   59              W   \n",
       "222    223      M   28              W   \n",
       "1463  1464      M   45              W   \n",
       "703    704      M   61              W   \n",
       "1037  1038      M   55              W   \n",
       "1175  1176      F   28              W   \n",
       "489    490      M   25              W   \n",
       "1161  1162      F   68              W   \n",
       "480    481      M   44              W   \n",
       "937    938      M   36              W   \n",
       "417    418      M   39              W   \n",
       "\n",
       "                                              Diagnosis MD Assignment EMR  \\\n",
       "1127                            Depressive Disorder NOS  B          S   C   \n",
       "401                             Depressive Disorder NOS  W          S   C   \n",
       "228                             Depressive Disorder NOS  D          S   C   \n",
       "424   MDD, Single Episode,Severe Without Psychotic F...  W          S   C   \n",
       "984                                                 MDD  Q          S   E   \n",
       "222   MDD, Single Episode,Severe Without Psychotic F...  T          S   C   \n",
       "1463  MDD, Single Episode,Severe Without Psychotic F...  B          S   C   \n",
       "703                                                 MDD  Q          S   E   \n",
       "1037                                                MDD  O          S   E   \n",
       "1175  MDD, Recurrent, Severe Without Psychotic Features  T          S   C   \n",
       "489   MDD, Recurrent, Severe Without Psychotic Features  D          S   E   \n",
       "1161  MDD, Single Episode, Severe With Psychotic Fea...  L          S   C   \n",
       "480                         MDD, Recurrent, Unspecified  D          S   E   \n",
       "937      MDD, Recurrent, Severe With Psychotic Features  U          S   E   \n",
       "417                             Depressive Disorder NOS  U          S   C   \n",
       "\n",
       "      StayLength  Re_admission  ...  X    Y   Z  AA  AB  AC  AD  \\\n",
       "1127        1629             0  ...  0    0  73   0   2   0   0   \n",
       "401         1162             0  ...  0  134   0  50  29   0   0   \n",
       "228         1009             0  ...  0    0   0   0  29   0   0   \n",
       "424          859             0  ...  0    0   0  36  22   0   0   \n",
       "984          692             0  ...  0    5   0   0   5  14   0   \n",
       "222          671             0  ...  0    0   0   5  10   3   0   \n",
       "1463         629             0  ...  0   27   0   0  26   0   0   \n",
       "703          613             0  ...  0   11  17   0  15   8   0   \n",
       "1037         598             0  ...  0    4   6   6  17   4   0   \n",
       "1175         530             0  ...  0    0   0   0  16   0   0   \n",
       "489          529             0  ...  0    0   0  22  22   0   0   \n",
       "1161         526             0  ...  0    0  59   0   7  22   0   \n",
       "480          525             1  ...  0   22   0   0   0   0   0   \n",
       "937          525             0  ...  0   14   0   0   0   0   0   \n",
       "417          524             1  ...  0    0   0   0  21   0   0   \n",
       "\n",
       "      # Psychotropic Medications  # Administrations  Therapeutic Guidances  \n",
       "1127                           2                 75                     EG  \n",
       "401                            6                296                     EG  \n",
       "228                            3                133                     EG  \n",
       "424                            4                 64                     EG  \n",
       "984                            6                 66                     EG  \n",
       "222                            7                 43                     EG  \n",
       "1463                           5                102                     EG  \n",
       "703                            4                 51                     EG  \n",
       "1037                           9                 76                     EG  \n",
       "1175                           4                 47                     EG  \n",
       "489                            3                 66                     EG  \n",
       "1161                           5                 91                     EG  \n",
       "480                            2                 44                     EG  \n",
       "937                            4                 62                     EG  \n",
       "417                            3                 68                     EG  \n",
       "\n",
       "[15 rows x 43 columns]"
      ]
     },
     "execution_count": 130,
     "metadata": {},
     "output_type": "execute_result"
    }
   ],
   "source": [
    "# remove the top 1% (15) of data for sake of comparison\n",
    "clinic_df[clinic_df[\"Assignment\"]==\"S\"].nlargest(15,\"StayLength\")"
   ]
  },
  {
   "cell_type": "code",
   "execution_count": 131,
   "id": "daa3cb9b",
   "metadata": {},
   "outputs": [],
   "source": [
    "boxpfSdrop = boxpfS.drop([1127,401,228,424,984,222,1463,703,1037,1175,489,1161,480,937,417])"
   ]
  },
  {
   "cell_type": "code",
   "execution_count": 132,
   "id": "a60536d3",
   "metadata": {},
   "outputs": [
    {
     "data": {
      "text/plain": [
       "(503,)"
      ]
     },
     "execution_count": 132,
     "metadata": {},
     "output_type": "execute_result"
    }
   ],
   "source": [
    "boxpfSdrop.shape"
   ]
  },
  {
   "cell_type": "code",
   "execution_count": 133,
   "id": "5bc99a85",
   "metadata": {},
   "outputs": [
    {
     "data": {
      "text/plain": [
       "count    503.000000\n",
       "mean     155.988072\n",
       "std       99.617415\n",
       "min        6.000000\n",
       "25%       88.000000\n",
       "50%      134.000000\n",
       "75%      190.000000\n",
       "max      519.000000\n",
       "Name: StayLength, dtype: float64"
      ]
     },
     "execution_count": 133,
     "metadata": {},
     "output_type": "execute_result"
    }
   ],
   "source": [
    "# new describe for S without top 1% outlier\n",
    "boxpfSdrop.describe()"
   ]
  },
  {
   "cell_type": "code",
   "execution_count": 134,
   "id": "93bbb36c",
   "metadata": {},
   "outputs": [
    {
     "data": {
      "text/html": [
       "<div>\n",
       "<style scoped>\n",
       "    .dataframe tbody tr th:only-of-type {\n",
       "        vertical-align: middle;\n",
       "    }\n",
       "\n",
       "    .dataframe tbody tr th {\n",
       "        vertical-align: top;\n",
       "    }\n",
       "\n",
       "    .dataframe thead th {\n",
       "        text-align: right;\n",
       "    }\n",
       "</style>\n",
       "<table border=\"1\" class=\"dataframe\">\n",
       "  <thead>\n",
       "    <tr style=\"text-align: right;\">\n",
       "      <th></th>\n",
       "      <th>count</th>\n",
       "      <th>mean</th>\n",
       "      <th>std</th>\n",
       "      <th>min</th>\n",
       "      <th>25%</th>\n",
       "      <th>50%</th>\n",
       "      <th>75%</th>\n",
       "      <th>max</th>\n",
       "    </tr>\n",
       "    <tr>\n",
       "      <th>Assignment</th>\n",
       "      <th></th>\n",
       "      <th></th>\n",
       "      <th></th>\n",
       "      <th></th>\n",
       "      <th></th>\n",
       "      <th></th>\n",
       "      <th></th>\n",
       "      <th></th>\n",
       "    </tr>\n",
       "  </thead>\n",
       "  <tbody>\n",
       "    <tr>\n",
       "      <th>G</th>\n",
       "      <td>982.0</td>\n",
       "      <td>178.511202</td>\n",
       "      <td>186.889539</td>\n",
       "      <td>14.0</td>\n",
       "      <td>90.0</td>\n",
       "      <td>139.5</td>\n",
       "      <td>189.75</td>\n",
       "      <td>2776.0</td>\n",
       "    </tr>\n",
       "    <tr>\n",
       "      <th>S</th>\n",
       "      <td>518.0</td>\n",
       "      <td>172.747104</td>\n",
       "      <td>147.474404</td>\n",
       "      <td>6.0</td>\n",
       "      <td>89.0</td>\n",
       "      <td>135.0</td>\n",
       "      <td>202.00</td>\n",
       "      <td>1629.0</td>\n",
       "    </tr>\n",
       "  </tbody>\n",
       "</table>\n",
       "</div>"
      ],
      "text/plain": [
       "            count        mean         std   min   25%    50%     75%     max\n",
       "Assignment                                                                  \n",
       "G           982.0  178.511202  186.889539  14.0  90.0  139.5  189.75  2776.0\n",
       "S           518.0  172.747104  147.474404   6.0  89.0  135.0  202.00  1629.0"
      ]
     },
     "execution_count": 134,
     "metadata": {},
     "output_type": "execute_result"
    }
   ],
   "source": [
    "# for comparison with full data\n",
    "clinic_df.groupby(\"Assignment\")[\"StayLength\"].describe()"
   ]
  },
  {
   "cell_type": "code",
   "execution_count": 135,
   "id": "46c70863",
   "metadata": {},
   "outputs": [
    {
     "data": {
      "text/plain": [
       "count    967.000000\n",
       "mean     162.589452\n",
       "std      113.579726\n",
       "min       14.000000\n",
       "25%       90.000000\n",
       "50%      138.000000\n",
       "75%      188.000000\n",
       "max      723.000000\n",
       "Name: StayLength, dtype: float64"
      ]
     },
     "execution_count": 135,
     "metadata": {},
     "output_type": "execute_result"
    }
   ],
   "source": [
    "# new describe for G without top 1% outlier\n",
    "boxpfGdrop.describe()"
   ]
  },
  {
   "cell_type": "code",
   "execution_count": 136,
   "id": "41d28beb",
   "metadata": {},
   "outputs": [],
   "source": [
    "# very small differences observed for StayLength of both Assignment groups\n",
    "# Hypothesis is void"
   ]
  },
  {
   "cell_type": "markdown",
   "id": "07965e1c",
   "metadata": {},
   "source": [
    "PART 2: Difference between EMR C: traditional vs EMR E: system"
   ]
  },
  {
   "cell_type": "code",
   "execution_count": 137,
   "id": "fed77444",
   "metadata": {},
   "outputs": [],
   "source": [
    "# Hypothesis: EMR E system should have similar if not better result"
   ]
  },
  {
   "cell_type": "markdown",
   "id": "1cb5c65c",
   "metadata": {},
   "source": [
    "PART 2.1: Considering Re-admission"
   ]
  },
  {
   "cell_type": "code",
   "execution_count": 138,
   "id": "d74c4960",
   "metadata": {},
   "outputs": [
    {
     "data": {
      "text/plain": [
       "C    856\n",
       "E    644\n",
       "Name: EMR, dtype: int64"
      ]
     },
     "execution_count": 138,
     "metadata": {},
     "output_type": "execute_result"
    }
   ],
   "source": [
    "clinic_df[\"EMR\"].value_counts(dropna= False)"
   ]
  },
  {
   "cell_type": "code",
   "execution_count": 139,
   "id": "fa25e1c6",
   "metadata": {},
   "outputs": [
    {
     "data": {
      "text/plain": [
       "85"
      ]
     },
     "execution_count": 139,
     "metadata": {},
     "output_type": "execute_result"
    }
   ],
   "source": [
    "# total re-admission for EMR C\n",
    "clinic_df[clinic_df[\"EMR\"]==\"C\"][\"Re_admission\"].sum()"
   ]
  },
  {
   "cell_type": "code",
   "execution_count": 140,
   "id": "053d20e9",
   "metadata": {},
   "outputs": [
    {
     "data": {
      "text/plain": [
       "9.929906542056074"
      ]
     },
     "execution_count": 140,
     "metadata": {},
     "output_type": "execute_result"
    }
   ],
   "source": [
    "# re-admission percent for all patients under EMR C\n",
    "convert_percent(85,856)"
   ]
  },
  {
   "cell_type": "code",
   "execution_count": 141,
   "id": "b4e53c58",
   "metadata": {},
   "outputs": [
    {
     "data": {
      "text/plain": [
       "57"
      ]
     },
     "execution_count": 141,
     "metadata": {},
     "output_type": "execute_result"
    }
   ],
   "source": [
    "# total re-admission for EMR E\n",
    "clinic_df[clinic_df[\"EMR\"]==\"E\"][\"Re_admission\"].sum()"
   ]
  },
  {
   "cell_type": "code",
   "execution_count": 142,
   "id": "42f2623d",
   "metadata": {},
   "outputs": [
    {
     "data": {
      "text/plain": [
       "8.850931677018634"
      ]
     },
     "execution_count": 142,
     "metadata": {},
     "output_type": "execute_result"
    }
   ],
   "source": [
    "# re-admission percent for all patients under EMR E\n",
    "convert_percent(57,644)"
   ]
  },
  {
   "cell_type": "code",
   "execution_count": 143,
   "id": "2dd66df4",
   "metadata": {},
   "outputs": [
    {
     "data": {
      "text/plain": [
       "Assignment\n",
       "G    549\n",
       "S    307\n",
       "Name: AGE, dtype: int64"
      ]
     },
     "execution_count": 143,
     "metadata": {},
     "output_type": "execute_result"
    }
   ],
   "source": [
    "# How many in each assignment for EMR C\n",
    "clinic_df[clinic_df[\"EMR\"]==\"C\"].groupby(\"Assignment\")[\"AGE\"].count()"
   ]
  },
  {
   "cell_type": "code",
   "execution_count": 144,
   "id": "c8487d19",
   "metadata": {},
   "outputs": [
    {
     "data": {
      "text/plain": [
       "Assignment\n",
       "G    54\n",
       "S    31\n",
       "Name: Re_admission, dtype: int64"
      ]
     },
     "execution_count": 144,
     "metadata": {},
     "output_type": "execute_result"
    }
   ],
   "source": [
    "# re-admission percent for all patients under EMR C, by assignment group\n",
    "clinic_df[clinic_df[\"EMR\"]==\"C\"].groupby(\"Assignment\")[\"Re_admission\"].sum()"
   ]
  },
  {
   "cell_type": "code",
   "execution_count": 145,
   "id": "a7b5be09",
   "metadata": {},
   "outputs": [
    {
     "data": {
      "text/plain": [
       "9.836065573770492"
      ]
     },
     "execution_count": 145,
     "metadata": {},
     "output_type": "execute_result"
    }
   ],
   "source": [
    "# in percent for EMR C, assignment G\n",
    "convert_percent(54,549)"
   ]
  },
  {
   "cell_type": "code",
   "execution_count": 146,
   "id": "33439a8b",
   "metadata": {},
   "outputs": [
    {
     "data": {
      "text/plain": [
       "10.097719869706841"
      ]
     },
     "execution_count": 146,
     "metadata": {},
     "output_type": "execute_result"
    }
   ],
   "source": [
    "# in percent for EMR C, assignment S\n",
    "convert_percent(31,307)"
   ]
  },
  {
   "cell_type": "code",
   "execution_count": 147,
   "id": "01c2823e",
   "metadata": {},
   "outputs": [
    {
     "data": {
      "text/plain": [
       "Assignment\n",
       "G    433\n",
       "S    211\n",
       "Name: AGE, dtype: int64"
      ]
     },
     "execution_count": 147,
     "metadata": {},
     "output_type": "execute_result"
    }
   ],
   "source": [
    "# re-admission percent for all patients under EMR C, by assignment group\n",
    "clinic_df[clinic_df[\"EMR\"]==\"E\"].groupby(\"Assignment\")[\"AGE\"].count()"
   ]
  },
  {
   "cell_type": "code",
   "execution_count": 148,
   "id": "f31e5583",
   "metadata": {},
   "outputs": [
    {
     "data": {
      "text/plain": [
       "Assignment\n",
       "G    45\n",
       "S    12\n",
       "Name: Re_admission, dtype: int64"
      ]
     },
     "execution_count": 148,
     "metadata": {},
     "output_type": "execute_result"
    }
   ],
   "source": [
    "# re-admission percent for all patients under EMR E, by assignment group\n",
    "clinic_df[clinic_df[\"EMR\"]==\"E\"].groupby(\"Assignment\")[\"Re_admission\"].sum()"
   ]
  },
  {
   "cell_type": "code",
   "execution_count": 149,
   "id": "e5d59c36",
   "metadata": {},
   "outputs": [
    {
     "data": {
      "text/plain": [
       "10.392609699769054"
      ]
     },
     "execution_count": 149,
     "metadata": {},
     "output_type": "execute_result"
    }
   ],
   "source": [
    "# in percent for EMR E, assignment G\n",
    "convert_percent(45,433)"
   ]
  },
  {
   "cell_type": "code",
   "execution_count": 150,
   "id": "fa0223b9",
   "metadata": {},
   "outputs": [
    {
     "data": {
      "text/plain": [
       "5.687203791469194"
      ]
     },
     "execution_count": 150,
     "metadata": {},
     "output_type": "execute_result"
    }
   ],
   "source": [
    "# in percent for EMR E, assignment S\n",
    "convert_percent(12,211)"
   ]
  },
  {
   "cell_type": "code",
   "execution_count": 151,
   "id": "179f98df",
   "metadata": {},
   "outputs": [],
   "source": [
    "# slight difference only but EMR C better?"
   ]
  },
  {
   "cell_type": "markdown",
   "id": "ccb22cc9",
   "metadata": {},
   "source": [
    "PART 2.2: Considering StayLength"
   ]
  },
  {
   "cell_type": "code",
   "execution_count": 152,
   "id": "9b817b38",
   "metadata": {},
   "outputs": [
    {
     "data": {
      "text/plain": [
       "count     856.000000\n",
       "mean      160.448598\n",
       "std       164.197441\n",
       "min         6.000000\n",
       "25%        81.000000\n",
       "50%       128.000000\n",
       "75%       179.000000\n",
       "max      2776.000000\n",
       "Name: StayLength, dtype: float64"
      ]
     },
     "execution_count": 152,
     "metadata": {},
     "output_type": "execute_result"
    }
   ],
   "source": [
    "# for EMR C\n",
    "clinic_df[clinic_df[\"EMR\"]==\"C\"][\"StayLength\"].describe()"
   ]
  },
  {
   "cell_type": "code",
   "execution_count": 153,
   "id": "4dcac550",
   "metadata": {},
   "outputs": [
    {
     "data": {
      "text/plain": [
       "count     644.000000\n",
       "mean      197.883540\n",
       "std       184.773899\n",
       "min        18.000000\n",
       "25%        97.000000\n",
       "50%       157.000000\n",
       "75%       215.000000\n",
       "max      2685.000000\n",
       "Name: StayLength, dtype: float64"
      ]
     },
     "execution_count": 153,
     "metadata": {},
     "output_type": "execute_result"
    }
   ],
   "source": [
    "clinic_df[clinic_df[\"EMR\"]==\"E\"][\"StayLength\"].describe()"
   ]
  },
  {
   "cell_type": "code",
   "execution_count": 154,
   "id": "26d64938",
   "metadata": {},
   "outputs": [],
   "source": [
    "# EMR C is better"
   ]
  },
  {
   "cell_type": "code",
   "execution_count": 155,
   "id": "f5b45170",
   "metadata": {},
   "outputs": [
    {
     "data": {
      "text/html": [
       "<div>\n",
       "<style scoped>\n",
       "    .dataframe tbody tr th:only-of-type {\n",
       "        vertical-align: middle;\n",
       "    }\n",
       "\n",
       "    .dataframe tbody tr th {\n",
       "        vertical-align: top;\n",
       "    }\n",
       "\n",
       "    .dataframe thead th {\n",
       "        text-align: right;\n",
       "    }\n",
       "</style>\n",
       "<table border=\"1\" class=\"dataframe\">\n",
       "  <thead>\n",
       "    <tr style=\"text-align: right;\">\n",
       "      <th></th>\n",
       "      <th>count</th>\n",
       "      <th>mean</th>\n",
       "      <th>std</th>\n",
       "      <th>min</th>\n",
       "      <th>25%</th>\n",
       "      <th>50%</th>\n",
       "      <th>75%</th>\n",
       "      <th>max</th>\n",
       "    </tr>\n",
       "    <tr>\n",
       "      <th>Assignment</th>\n",
       "      <th></th>\n",
       "      <th></th>\n",
       "      <th></th>\n",
       "      <th></th>\n",
       "      <th></th>\n",
       "      <th></th>\n",
       "      <th></th>\n",
       "      <th></th>\n",
       "    </tr>\n",
       "  </thead>\n",
       "  <tbody>\n",
       "    <tr>\n",
       "      <th>G</th>\n",
       "      <td>549.0</td>\n",
       "      <td>159.626594</td>\n",
       "      <td>166.096184</td>\n",
       "      <td>14.0</td>\n",
       "      <td>83.0</td>\n",
       "      <td>135.0</td>\n",
       "      <td>176.0</td>\n",
       "      <td>2776.0</td>\n",
       "    </tr>\n",
       "    <tr>\n",
       "      <th>S</th>\n",
       "      <td>307.0</td>\n",
       "      <td>161.918567</td>\n",
       "      <td>161.004374</td>\n",
       "      <td>6.0</td>\n",
       "      <td>77.0</td>\n",
       "      <td>120.0</td>\n",
       "      <td>183.0</td>\n",
       "      <td>1629.0</td>\n",
       "    </tr>\n",
       "  </tbody>\n",
       "</table>\n",
       "</div>"
      ],
      "text/plain": [
       "            count        mean         std   min   25%    50%    75%     max\n",
       "Assignment                                                                 \n",
       "G           549.0  159.626594  166.096184  14.0  83.0  135.0  176.0  2776.0\n",
       "S           307.0  161.918567  161.004374   6.0  77.0  120.0  183.0  1629.0"
      ]
     },
     "execution_count": 155,
     "metadata": {},
     "output_type": "execute_result"
    }
   ],
   "source": [
    "# for EMR C by assignment group\n",
    "clinic_df[clinic_df[\"EMR\"]==\"C\"].groupby(\"Assignment\")[\"StayLength\"].describe()"
   ]
  },
  {
   "cell_type": "code",
   "execution_count": 156,
   "id": "f59e6643",
   "metadata": {},
   "outputs": [
    {
     "data": {
      "text/html": [
       "<div>\n",
       "<style scoped>\n",
       "    .dataframe tbody tr th:only-of-type {\n",
       "        vertical-align: middle;\n",
       "    }\n",
       "\n",
       "    .dataframe tbody tr th {\n",
       "        vertical-align: top;\n",
       "    }\n",
       "\n",
       "    .dataframe thead th {\n",
       "        text-align: right;\n",
       "    }\n",
       "</style>\n",
       "<table border=\"1\" class=\"dataframe\">\n",
       "  <thead>\n",
       "    <tr style=\"text-align: right;\">\n",
       "      <th></th>\n",
       "      <th>count</th>\n",
       "      <th>mean</th>\n",
       "      <th>std</th>\n",
       "      <th>min</th>\n",
       "      <th>25%</th>\n",
       "      <th>50%</th>\n",
       "      <th>75%</th>\n",
       "      <th>max</th>\n",
       "    </tr>\n",
       "    <tr>\n",
       "      <th>Assignment</th>\n",
       "      <th></th>\n",
       "      <th></th>\n",
       "      <th></th>\n",
       "      <th></th>\n",
       "      <th></th>\n",
       "      <th></th>\n",
       "      <th></th>\n",
       "      <th></th>\n",
       "    </tr>\n",
       "  </thead>\n",
       "  <tbody>\n",
       "    <tr>\n",
       "      <th>G</th>\n",
       "      <td>433.0</td>\n",
       "      <td>202.454965</td>\n",
       "      <td>208.065669</td>\n",
       "      <td>18.0</td>\n",
       "      <td>98.0</td>\n",
       "      <td>157.0</td>\n",
       "      <td>210.0</td>\n",
       "      <td>2685.0</td>\n",
       "    </tr>\n",
       "    <tr>\n",
       "      <th>S</th>\n",
       "      <td>211.0</td>\n",
       "      <td>188.502370</td>\n",
       "      <td>123.894094</td>\n",
       "      <td>26.0</td>\n",
       "      <td>95.5</td>\n",
       "      <td>157.0</td>\n",
       "      <td>235.0</td>\n",
       "      <td>692.0</td>\n",
       "    </tr>\n",
       "  </tbody>\n",
       "</table>\n",
       "</div>"
      ],
      "text/plain": [
       "            count        mean         std   min   25%    50%    75%     max\n",
       "Assignment                                                                 \n",
       "G           433.0  202.454965  208.065669  18.0  98.0  157.0  210.0  2685.0\n",
       "S           211.0  188.502370  123.894094  26.0  95.5  157.0  235.0   692.0"
      ]
     },
     "execution_count": 156,
     "metadata": {},
     "output_type": "execute_result"
    }
   ],
   "source": [
    "# for EMR C by assignment group\n",
    "clinic_df[clinic_df[\"EMR\"]==\"E\"].groupby(\"Assignment\")[\"StayLength\"].describe()"
   ]
  },
  {
   "cell_type": "code",
   "execution_count": 157,
   "id": "bc8bd15a",
   "metadata": {},
   "outputs": [],
   "source": [
    "# Hypothesis void, EMR C seems better"
   ]
  },
  {
   "cell_type": "markdown",
   "id": "afeb08b5",
   "metadata": {},
   "source": [
    "PART 3: To compare by Diagnosis, the result (stay length) for each Assignment group"
   ]
  },
  {
   "cell_type": "code",
   "execution_count": 158,
   "id": "7ac985b9",
   "metadata": {},
   "outputs": [
    {
     "data": {
      "text/plain": [
       "32"
      ]
     },
     "execution_count": 158,
     "metadata": {},
     "output_type": "execute_result"
    }
   ],
   "source": [
    "clinic_df[\"Diagnosis\"].nunique(dropna=False)"
   ]
  },
  {
   "cell_type": "code",
   "execution_count": 159,
   "id": "4090cab3",
   "metadata": {},
   "outputs": [
    {
     "data": {
      "text/plain": [
       "MDD, Recurrent, Severe Without Psychotic Features                                    320\n",
       "Depressive Disorder NOS                                                              265\n",
       "MDD, Recurrent, Unspecified                                                          243\n",
       "MDD, Single Episode,Severe Without Psychotic Features                                238\n",
       "MDD                                                                                  115\n",
       "MDD, Single Episode, Severe With Psychotic Features                                  114\n",
       "MDD, Recurrent, Severe With Psychotic Features                                        84\n",
       "MDD, Single Episode, Unspecified                                                      26\n",
       "MDD, Recurrent, Moderate                                                              16\n",
       "\\tMDD, recurrent episode with anxious distress                                        16\n",
       "MDD, Recurrent, Chronic                                                               13\n",
       "MDD, recurrent, severe                                                                10\n",
       "MDD, Single Episode, Moderate                                                          5\n",
       "Severe episode of recurrent major depressive disorder, without psychotic features      5\n",
       "Depression                                                                             5\n",
       "\\tDepression, unspecified type                                                         5\n",
       "MDD, recurrent episodes                                                                2\n",
       "Depression with suicidal ideation                                                      2\n",
       "MDD, Recurrent, Mild                                                                   2\n",
       "MDD, Single Episode, Mild                                                              2\n",
       "MDD, single episode with psychotic features, mood-conguent                             1\n",
       "Major depressive disorder, recurrent episode, severe, with psychosis                   1\n",
       "Major depressive disorder, recurrent, with postpartum onset                            1\n",
       "Bipolar II Disorder                                                                    1\n",
       "Mood Disorder NOS                                                                      1\n",
       "Schizoaffective Disorder                                                               1\n",
       "Unspecified Depressive Disorder                                                        1\n",
       "Major depression, melancholic type                                                     1\n",
       "Adjustment Disorder With Depressed Mood                                                1\n",
       "Dissociative Disorder NOS                                                              1\n",
       "MDD, recurrent, severe with atypical features                                          1\n",
       "Major depressive disorder, recurrent episode with anxious distress                     1\n",
       "Name: Diagnosis, dtype: int64"
      ]
     },
     "execution_count": 159,
     "metadata": {},
     "output_type": "execute_result"
    }
   ],
   "source": [
    "# clean data, similar object with different wording found\n",
    "clinic_df[\"Diagnosis\"].value_counts(dropna=False)"
   ]
  },
  {
   "cell_type": "code",
   "execution_count": 160,
   "id": "fdd761f2",
   "metadata": {},
   "outputs": [
    {
     "data": {
      "text/plain": [
       "32"
      ]
     },
     "execution_count": 160,
     "metadata": {},
     "output_type": "execute_result"
    }
   ],
   "source": [
    "clinic_df[\"Diagnosis\"].nunique()"
   ]
  },
  {
   "cell_type": "code",
   "execution_count": 161,
   "id": "70d48a68",
   "metadata": {},
   "outputs": [],
   "source": [
    "# renaming similar objects to Diagnosis2 column\n",
    "clinic_df[\"Diagnosis2\"] = clinic_df[\"Diagnosis\"].map({\"Severe episode of recurrent major depressive disorder, without psychotic features\" : \"MDD, Recurrent, Severe Without Psychotic Features\",\n",
    "                                                     \"\\tDepression, unspecified type\" : \"Depression\", \n",
    "                                                     \"MDD, recurrent episodes\" : \"MDD, Recurrent, Unspecified\", \n",
    "                                                     \"Unspecified Depressive Disorder\" : \"Depressive Disorder NOS\", \n",
    "                                                     \"Major depressive disorder, recurrent episode with anxious distress\" : \"\\tMDD, recurrent episode with anxious distress\"})"
   ]
  },
  {
   "cell_type": "code",
   "execution_count": 162,
   "id": "007f62d7",
   "metadata": {},
   "outputs": [
    {
     "data": {
      "text/plain": [
       "NaN                                                  1486\n",
       "MDD, Recurrent, Severe Without Psychotic Features       5\n",
       "Depression                                              5\n",
       "MDD, Recurrent, Unspecified                             2\n",
       "\\tMDD, recurrent episode with anxious distress          1\n",
       "Depressive Disorder NOS                                 1\n",
       "Name: Diagnosis2, dtype: int64"
      ]
     },
     "execution_count": 162,
     "metadata": {},
     "output_type": "execute_result"
    }
   ],
   "source": [
    "clinic_df[\"Diagnosis2\"].value_counts(dropna=False)"
   ]
  },
  {
   "cell_type": "code",
   "execution_count": 163,
   "id": "9e076067",
   "metadata": {},
   "outputs": [],
   "source": [
    "clinic_df[\"Diagnosis2\"] = clinic_df[\"Diagnosis2\"].fillna(value=clinic_df[\"Diagnosis\"])"
   ]
  },
  {
   "cell_type": "code",
   "execution_count": 164,
   "id": "7fabc83c",
   "metadata": {},
   "outputs": [
    {
     "data": {
      "text/html": [
       "<div>\n",
       "<style scoped>\n",
       "    .dataframe tbody tr th:only-of-type {\n",
       "        vertical-align: middle;\n",
       "    }\n",
       "\n",
       "    .dataframe tbody tr th {\n",
       "        vertical-align: top;\n",
       "    }\n",
       "\n",
       "    .dataframe thead th {\n",
       "        text-align: right;\n",
       "    }\n",
       "</style>\n",
       "<table border=\"1\" class=\"dataframe\">\n",
       "  <thead>\n",
       "    <tr style=\"text-align: right;\">\n",
       "      <th></th>\n",
       "      <th>Diagnosis</th>\n",
       "      <th>Diagnosis2</th>\n",
       "    </tr>\n",
       "  </thead>\n",
       "  <tbody>\n",
       "    <tr>\n",
       "      <th>0</th>\n",
       "      <td>MDD, Recurrent, Unspecified</td>\n",
       "      <td>MDD, Recurrent, Unspecified</td>\n",
       "    </tr>\n",
       "    <tr>\n",
       "      <th>1</th>\n",
       "      <td>MDD, Recurrent, Unspecified</td>\n",
       "      <td>MDD, Recurrent, Unspecified</td>\n",
       "    </tr>\n",
       "    <tr>\n",
       "      <th>2</th>\n",
       "      <td>MDD, Single Episode, Severe With Psychotic Fea...</td>\n",
       "      <td>MDD, Single Episode, Severe With Psychotic Fea...</td>\n",
       "    </tr>\n",
       "    <tr>\n",
       "      <th>3</th>\n",
       "      <td>Depressive Disorder NOS</td>\n",
       "      <td>Depressive Disorder NOS</td>\n",
       "    </tr>\n",
       "    <tr>\n",
       "      <th>4</th>\n",
       "      <td>MDD, Single Episode, Severe With Psychotic Fea...</td>\n",
       "      <td>MDD, Single Episode, Severe With Psychotic Fea...</td>\n",
       "    </tr>\n",
       "  </tbody>\n",
       "</table>\n",
       "</div>"
      ],
      "text/plain": [
       "                                           Diagnosis  \\\n",
       "0                        MDD, Recurrent, Unspecified   \n",
       "1                        MDD, Recurrent, Unspecified   \n",
       "2  MDD, Single Episode, Severe With Psychotic Fea...   \n",
       "3                            Depressive Disorder NOS   \n",
       "4  MDD, Single Episode, Severe With Psychotic Fea...   \n",
       "\n",
       "                                          Diagnosis2  \n",
       "0                        MDD, Recurrent, Unspecified  \n",
       "1                        MDD, Recurrent, Unspecified  \n",
       "2  MDD, Single Episode, Severe With Psychotic Fea...  \n",
       "3                            Depressive Disorder NOS  \n",
       "4  MDD, Single Episode, Severe With Psychotic Fea...  "
      ]
     },
     "execution_count": 164,
     "metadata": {},
     "output_type": "execute_result"
    }
   ],
   "source": [
    "clinic_df[[\"Diagnosis\",\"Diagnosis2\"]].head()"
   ]
  },
  {
   "cell_type": "code",
   "execution_count": 165,
   "id": "45cd70aa",
   "metadata": {},
   "outputs": [
    {
     "data": {
      "text/plain": [
       "MDD, Recurrent, Severe Without Psychotic Features                       325\n",
       "Depressive Disorder NOS                                                 266\n",
       "MDD, Recurrent, Unspecified                                             245\n",
       "MDD, Single Episode,Severe Without Psychotic Features                   238\n",
       "MDD                                                                     115\n",
       "MDD, Single Episode, Severe With Psychotic Features                     114\n",
       "MDD, Recurrent, Severe With Psychotic Features                           84\n",
       "MDD, Single Episode, Unspecified                                         26\n",
       "\\tMDD, recurrent episode with anxious distress                           17\n",
       "MDD, Recurrent, Moderate                                                 16\n",
       "MDD, Recurrent, Chronic                                                  13\n",
       "Depression                                                               10\n",
       "MDD, recurrent, severe                                                   10\n",
       "MDD, Single Episode, Moderate                                             5\n",
       "MDD, Single Episode, Mild                                                 2\n",
       "MDD, Recurrent, Mild                                                      2\n",
       "Depression with suicidal ideation                                         2\n",
       "Major depression, melancholic type                                        1\n",
       "Adjustment Disorder With Depressed Mood                                   1\n",
       "Bipolar II Disorder                                                       1\n",
       "Dissociative Disorder NOS                                                 1\n",
       "MDD, recurrent, severe with atypical features                             1\n",
       "Mood Disorder NOS                                                         1\n",
       "Schizoaffective Disorder                                                  1\n",
       "Major depressive disorder, recurrent, with postpartum onset               1\n",
       "Major depressive disorder, recurrent episode, severe, with psychosis      1\n",
       "MDD, single episode with psychotic features, mood-conguent                1\n",
       "Name: Diagnosis2, dtype: int64"
      ]
     },
     "execution_count": 165,
     "metadata": {},
     "output_type": "execute_result"
    }
   ],
   "source": [
    "clinic_df[\"Diagnosis2\"].value_counts(dropna= False)"
   ]
  },
  {
   "cell_type": "code",
   "execution_count": 166,
   "id": "d63c97e4",
   "metadata": {},
   "outputs": [
    {
     "data": {
      "text/plain": [
       "27"
      ]
     },
     "execution_count": 166,
     "metadata": {},
     "output_type": "execute_result"
    }
   ],
   "source": [
    "clinic_df[\"Diagnosis2\"].nunique()"
   ]
  },
  {
   "cell_type": "code",
   "execution_count": 167,
   "id": "3903e864",
   "metadata": {},
   "outputs": [],
   "source": [
    "# remove \\t from one object\n",
    "def rename_object(line):\n",
    "    line_dict = {\"\\tMDD, recurrent episode with anxious distress\" : \"MDD, recurrent episode with anxious distress\"}\n",
    "    if line in line_dict:\n",
    "        return line_dict[line]\n",
    "    else:\n",
    "        return line"
   ]
  },
  {
   "cell_type": "code",
   "execution_count": 168,
   "id": "388ddf82",
   "metadata": {},
   "outputs": [],
   "source": [
    "clinic_df[\"Diagnosis2\"] = clinic_df[\"Diagnosis2\"].apply(rename_object)"
   ]
  },
  {
   "cell_type": "code",
   "execution_count": 169,
   "id": "b54fed1f",
   "metadata": {},
   "outputs": [
    {
     "data": {
      "text/plain": [
       "MDD, Recurrent, Severe Without Psychotic Features                       325\n",
       "Depressive Disorder NOS                                                 266\n",
       "MDD, Recurrent, Unspecified                                             245\n",
       "MDD, Single Episode,Severe Without Psychotic Features                   238\n",
       "MDD                                                                     115\n",
       "MDD, Single Episode, Severe With Psychotic Features                     114\n",
       "MDD, Recurrent, Severe With Psychotic Features                           84\n",
       "MDD, Single Episode, Unspecified                                         26\n",
       "MDD, recurrent episode with anxious distress                             17\n",
       "MDD, Recurrent, Moderate                                                 16\n",
       "MDD, Recurrent, Chronic                                                  13\n",
       "Depression                                                               10\n",
       "MDD, recurrent, severe                                                   10\n",
       "MDD, Single Episode, Moderate                                             5\n",
       "MDD, Single Episode, Mild                                                 2\n",
       "MDD, Recurrent, Mild                                                      2\n",
       "Depression with suicidal ideation                                         2\n",
       "Major depression, melancholic type                                        1\n",
       "Adjustment Disorder With Depressed Mood                                   1\n",
       "Bipolar II Disorder                                                       1\n",
       "Dissociative Disorder NOS                                                 1\n",
       "MDD, recurrent, severe with atypical features                             1\n",
       "Mood Disorder NOS                                                         1\n",
       "Schizoaffective Disorder                                                  1\n",
       "Major depressive disorder, recurrent, with postpartum onset               1\n",
       "Major depressive disorder, recurrent episode, severe, with psychosis      1\n",
       "MDD, single episode with psychotic features, mood-conguent                1\n",
       "Name: Diagnosis2, dtype: int64"
      ]
     },
     "execution_count": 169,
     "metadata": {},
     "output_type": "execute_result"
    }
   ],
   "source": [
    "clinic_df[\"Diagnosis2\"].value_counts(dropna= False)"
   ]
  },
  {
   "cell_type": "code",
   "execution_count": 170,
   "id": "ea230d6a",
   "metadata": {},
   "outputs": [],
   "source": [
    "# split to seperate assignment groups\n",
    "G_SYMP = clinic_df[clinic_df[\"Assignment\"] == \"G\"][\"Diagnosis2\"]"
   ]
  },
  {
   "cell_type": "code",
   "execution_count": 171,
   "id": "79143c6e",
   "metadata": {},
   "outputs": [
    {
     "data": {
      "text/plain": [
       "MDD, Recurrent, Severe Without Psychotic Features                       224\n",
       "Depressive Disorder NOS                                                 165\n",
       "MDD, Single Episode,Severe Without Psychotic Features                   158\n",
       "MDD, Recurrent, Unspecified                                             152\n",
       "MDD, Single Episode, Severe With Psychotic Features                      76\n",
       "MDD                                                                      74\n",
       "MDD, Recurrent, Severe With Psychotic Features                           51\n",
       "MDD, Single Episode, Unspecified                                         17\n",
       "MDD, recurrent episode with anxious distress                             15\n",
       "MDD, Recurrent, Moderate                                                 13\n",
       "MDD, recurrent, severe                                                   10\n",
       "MDD, Recurrent, Chronic                                                   9\n",
       "Depression                                                                7\n",
       "MDD, Recurrent, Mild                                                      2\n",
       "MDD, Single Episode, Moderate                                             1\n",
       "MDD, single episode with psychotic features, mood-conguent                1\n",
       "Dissociative Disorder NOS                                                 1\n",
       "Major depressive disorder, recurrent episode, severe, with psychosis      1\n",
       "Major depressive disorder, recurrent, with postpartum onset               1\n",
       "Schizoaffective Disorder                                                  1\n",
       "Bipolar II Disorder                                                       1\n",
       "Major depression, melancholic type                                        1\n",
       "MDD, Single Episode, Mild                                                 1\n",
       "Name: Diagnosis2, dtype: int64"
      ]
     },
     "execution_count": 171,
     "metadata": {},
     "output_type": "execute_result"
    }
   ],
   "source": [
    "# for assignment G\n",
    "G_SYMP.value_counts()"
   ]
  },
  {
   "cell_type": "code",
   "execution_count": 172,
   "id": "4f8e9fdd",
   "metadata": {},
   "outputs": [
    {
     "data": {
      "text/plain": [
       "23"
      ]
     },
     "execution_count": 172,
     "metadata": {},
     "output_type": "execute_result"
    }
   ],
   "source": [
    "G_SYMP.nunique()"
   ]
  },
  {
   "cell_type": "code",
   "execution_count": 173,
   "id": "431e0c81",
   "metadata": {},
   "outputs": [],
   "source": [
    "# for Assignment S\n",
    "S_SYMP = clinic_df[clinic_df[\"Assignment\"] == \"S\"][\"Diagnosis2\"]"
   ]
  },
  {
   "cell_type": "code",
   "execution_count": 174,
   "id": "64f95700",
   "metadata": {},
   "outputs": [
    {
     "data": {
      "text/plain": [
       "Depressive Disorder NOS                                  101\n",
       "MDD, Recurrent, Severe Without Psychotic Features        101\n",
       "MDD, Recurrent, Unspecified                               93\n",
       "MDD, Single Episode,Severe Without Psychotic Features     80\n",
       "MDD                                                       41\n",
       "MDD, Single Episode, Severe With Psychotic Features       38\n",
       "MDD, Recurrent, Severe With Psychotic Features            33\n",
       "MDD, Single Episode, Unspecified                           9\n",
       "MDD, Recurrent, Chronic                                    4\n",
       "MDD, Single Episode, Moderate                              4\n",
       "MDD, Recurrent, Moderate                                   3\n",
       "Depression                                                 3\n",
       "MDD, recurrent episode with anxious distress               2\n",
       "Depression with suicidal ideation                          2\n",
       "MDD, Single Episode, Mild                                  1\n",
       "Mood Disorder NOS                                          1\n",
       "Adjustment Disorder With Depressed Mood                    1\n",
       "MDD, recurrent, severe with atypical features              1\n",
       "Name: Diagnosis2, dtype: int64"
      ]
     },
     "execution_count": 174,
     "metadata": {},
     "output_type": "execute_result"
    }
   ],
   "source": [
    "S_SYMP.value_counts()"
   ]
  },
  {
   "cell_type": "code",
   "execution_count": 175,
   "id": "e039db07",
   "metadata": {},
   "outputs": [
    {
     "data": {
      "text/plain": [
       "18"
      ]
     },
     "execution_count": 175,
     "metadata": {},
     "output_type": "execute_result"
    }
   ],
   "source": [
    "S_SYMP.nunique()"
   ]
  },
  {
   "cell_type": "code",
   "execution_count": 176,
   "id": "1b5da830",
   "metadata": {},
   "outputs": [
    {
     "data": {
      "text/plain": [
       "Diagnosis2\n",
       "Bipolar II Disorder                                                      84.000000\n",
       "Depression                                                              222.142857\n",
       "Depressive Disorder NOS                                                 170.448485\n",
       "Dissociative Disorder NOS                                               121.000000\n",
       "MDD                                                                     261.081081\n",
       "MDD, Recurrent, Chronic                                                 149.666667\n",
       "MDD, Recurrent, Mild                                                    284.500000\n",
       "MDD, Recurrent, Moderate                                                162.230769\n",
       "MDD, Recurrent, Severe With Psychotic Features                          166.862745\n",
       "MDD, Recurrent, Severe Without Psychotic Features                       183.669643\n",
       "MDD, Recurrent, Unspecified                                             168.585526\n",
       "MDD, Single Episode, Mild                                                63.000000\n",
       "MDD, Single Episode, Moderate                                           116.000000\n",
       "MDD, Single Episode, Severe With Psychotic Features                     195.223684\n",
       "MDD, Single Episode, Unspecified                                        128.588235\n",
       "MDD, Single Episode,Severe Without Psychotic Features                   153.227848\n",
       "MDD, recurrent episode with anxious distress                            200.466667\n",
       "MDD, recurrent, severe                                                  187.000000\n",
       "MDD, single episode with psychotic features, mood-conguent              135.000000\n",
       "Major depression, melancholic type                                       91.000000\n",
       "Major depressive disorder, recurrent episode, severe, with psychosis     73.000000\n",
       "Major depressive disorder, recurrent, with postpartum onset             113.000000\n",
       "Schizoaffective Disorder                                                 91.000000\n",
       "Name: StayLength, dtype: float64"
      ]
     },
     "execution_count": 176,
     "metadata": {},
     "output_type": "execute_result"
    }
   ],
   "source": [
    "# mean of staylength for each diagnosis in G\n",
    "clinic_df.groupby(G_SYMP)[\"StayLength\"].mean()"
   ]
  },
  {
   "cell_type": "code",
   "execution_count": 177,
   "id": "c76433d0",
   "metadata": {},
   "outputs": [
    {
     "data": {
      "text/plain": [
       "Diagnosis2\n",
       "Adjustment Disorder With Depressed Mood                  145.000000\n",
       "Depression                                               231.000000\n",
       "Depression with suicidal ideation                        314.500000\n",
       "Depressive Disorder NOS                                  176.643564\n",
       "MDD                                                      220.780488\n",
       "MDD, Recurrent, Chronic                                  166.250000\n",
       "MDD, Recurrent, Moderate                                 173.666667\n",
       "MDD, Recurrent, Severe With Psychotic Features           202.636364\n",
       "MDD, Recurrent, Severe Without Psychotic Features        173.732673\n",
       "MDD, Recurrent, Unspecified                              157.279570\n",
       "MDD, Single Episode, Mild                                 63.000000\n",
       "MDD, Single Episode, Moderate                             89.750000\n",
       "MDD, Single Episode, Severe With Psychotic Features      141.552632\n",
       "MDD, Single Episode, Unspecified                         133.666667\n",
       "MDD, Single Episode,Severe Without Psychotic Features    171.375000\n",
       "MDD, recurrent episode with anxious distress              66.000000\n",
       "MDD, recurrent, severe with atypical features             42.000000\n",
       "Mood Disorder NOS                                        188.000000\n",
       "Name: StayLength, dtype: float64"
      ]
     },
     "execution_count": 177,
     "metadata": {},
     "output_type": "execute_result"
    }
   ],
   "source": [
    "# mean of staylength for each diagnosis in S\n",
    "clinic_df.groupby(S_SYMP)[\"StayLength\"].mean()"
   ]
  },
  {
   "cell_type": "code",
   "execution_count": 178,
   "id": "51744f7c",
   "metadata": {},
   "outputs": [],
   "source": [
    "graph_dataG = clinic_df.groupby(G_SYMP)[\"StayLength\"].mean()\n",
    "graph_dataS = clinic_df.groupby(S_SYMP)[\"StayLength\"].mean()"
   ]
  },
  {
   "cell_type": "code",
   "execution_count": 179,
   "id": "11528895",
   "metadata": {},
   "outputs": [],
   "source": [
    "part3df = pd.DataFrame({\"Assignment_G\":graph_dataG,\"Assignment_S\":graph_dataS})"
   ]
  },
  {
   "cell_type": "code",
   "execution_count": 180,
   "id": "db60877f",
   "metadata": {},
   "outputs": [
    {
     "data": {
      "text/plain": [
       "Text(0, 0.5, 'Mean of stay length')"
      ]
     },
     "execution_count": 180,
     "metadata": {},
     "output_type": "execute_result"
    },
    {
     "data": {
      "image/png": "[encoded data removed]",
      "text/plain": [
       "<Figure size 1152x576 with 1 Axes>"
      ]
     },
     "metadata": {
      "needs_background": "light"
     },
     "output_type": "display_data"
    }
   ],
   "source": [
    "plt.rcParams[\"figure.figsize\"] = (16,8)\n",
    "part3df.plot(kind=\"bar\")\n",
    "plt.xlabel(\"Diagnosis\")\n",
    "plt.ylabel(\"Mean of stay length\")"
   ]
  },
  {
   "cell_type": "code",
   "execution_count": 181,
   "id": "0fb4120d",
   "metadata": {},
   "outputs": [],
   "source": [
    "# In general, Assignment G expected to have better results"
   ]
  },
  {
   "cell_type": "markdown",
   "id": "3b886beb",
   "metadata": {},
   "source": [
    "PART 4: More factors"
   ]
  },
  {
   "cell_type": "code",
   "execution_count": 182,
   "id": "8ab13e80",
   "metadata": {},
   "outputs": [],
   "source": [
    "# adding gender and age as parameters for the largest data group(patients with similar symptoms)\n",
    "# to determine effect of gender and age, if significant then split by assignment group"
   ]
  },
  {
   "cell_type": "code",
   "execution_count": 183,
   "id": "ac740519",
   "metadata": {},
   "outputs": [
    {
     "data": {
      "text/plain": [
       "MDD, Recurrent, Severe Without Psychotic Features                       325\n",
       "Depressive Disorder NOS                                                 266\n",
       "MDD, Recurrent, Unspecified                                             245\n",
       "MDD, Single Episode,Severe Without Psychotic Features                   238\n",
       "MDD                                                                     115\n",
       "MDD, Single Episode, Severe With Psychotic Features                     114\n",
       "MDD, Recurrent, Severe With Psychotic Features                           84\n",
       "MDD, Single Episode, Unspecified                                         26\n",
       "MDD, recurrent episode with anxious distress                             17\n",
       "MDD, Recurrent, Moderate                                                 16\n",
       "MDD, Recurrent, Chronic                                                  13\n",
       "Depression                                                               10\n",
       "MDD, recurrent, severe                                                   10\n",
       "MDD, Single Episode, Moderate                                             5\n",
       "MDD, Single Episode, Mild                                                 2\n",
       "MDD, Recurrent, Mild                                                      2\n",
       "Depression with suicidal ideation                                         2\n",
       "Major depression, melancholic type                                        1\n",
       "Adjustment Disorder With Depressed Mood                                   1\n",
       "Bipolar II Disorder                                                       1\n",
       "Dissociative Disorder NOS                                                 1\n",
       "MDD, recurrent, severe with atypical features                             1\n",
       "Mood Disorder NOS                                                         1\n",
       "Schizoaffective Disorder                                                  1\n",
       "Major depressive disorder, recurrent, with postpartum onset               1\n",
       "Major depressive disorder, recurrent episode, severe, with psychosis      1\n",
       "MDD, single episode with psychotic features, mood-conguent                1\n",
       "Name: Diagnosis2, dtype: int64"
      ]
     },
     "execution_count": 183,
     "metadata": {},
     "output_type": "execute_result"
    }
   ],
   "source": [
    "# Pick the largest subset\n",
    "clinic_df[\"Diagnosis2\"].value_counts(dropna=False)"
   ]
  },
  {
   "cell_type": "code",
   "execution_count": 184,
   "id": "e84ee7f4",
   "metadata": {},
   "outputs": [],
   "source": [
    "sub_df = clinic_df[clinic_df[\"Diagnosis2\"]==\"MDD, Recurrent, Severe Without Psychotic Features\"]"
   ]
  },
  {
   "cell_type": "code",
   "execution_count": 185,
   "id": "1d642af3",
   "metadata": {},
   "outputs": [
    {
     "data": {
      "text/html": [
       "<div>\n",
       "<style scoped>\n",
       "    .dataframe tbody tr th:only-of-type {\n",
       "        vertical-align: middle;\n",
       "    }\n",
       "\n",
       "    .dataframe tbody tr th {\n",
       "        vertical-align: top;\n",
       "    }\n",
       "\n",
       "    .dataframe thead th {\n",
       "        text-align: right;\n",
       "    }\n",
       "</style>\n",
       "<table border=\"1\" class=\"dataframe\">\n",
       "  <thead>\n",
       "    <tr style=\"text-align: right;\">\n",
       "      <th></th>\n",
       "      <th>ID</th>\n",
       "      <th>GENDER</th>\n",
       "      <th>AGE</th>\n",
       "      <th>RACE/ETHNICITY</th>\n",
       "      <th>Diagnosis</th>\n",
       "      <th>MD</th>\n",
       "      <th>Assignment</th>\n",
       "      <th>EMR</th>\n",
       "      <th>StayLength</th>\n",
       "      <th>Re_admission</th>\n",
       "      <th>...</th>\n",
       "      <th>Y</th>\n",
       "      <th>Z</th>\n",
       "      <th>AA</th>\n",
       "      <th>AB</th>\n",
       "      <th>AC</th>\n",
       "      <th>AD</th>\n",
       "      <th># Psychotropic Medications</th>\n",
       "      <th># Administrations</th>\n",
       "      <th>Therapeutic Guidances</th>\n",
       "      <th>Diagnosis2</th>\n",
       "    </tr>\n",
       "  </thead>\n",
       "  <tbody>\n",
       "    <tr>\n",
       "      <th>107</th>\n",
       "      <td>108</td>\n",
       "      <td>F</td>\n",
       "      <td>50</td>\n",
       "      <td>W</td>\n",
       "      <td>MDD, Recurrent, Severe Without Psychotic Features</td>\n",
       "      <td>I</td>\n",
       "      <td>G</td>\n",
       "      <td>C</td>\n",
       "      <td>158</td>\n",
       "      <td>0</td>\n",
       "      <td>...</td>\n",
       "      <td>0</td>\n",
       "      <td>0</td>\n",
       "      <td>0</td>\n",
       "      <td>1</td>\n",
       "      <td>0</td>\n",
       "      <td>0</td>\n",
       "      <td>3</td>\n",
       "      <td>27</td>\n",
       "      <td>EG</td>\n",
       "      <td>MDD, Recurrent, Severe Without Psychotic Features</td>\n",
       "    </tr>\n",
       "    <tr>\n",
       "      <th>243</th>\n",
       "      <td>244</td>\n",
       "      <td>F</td>\n",
       "      <td>36</td>\n",
       "      <td>W</td>\n",
       "      <td>MDD, Recurrent, Severe Without Psychotic Features</td>\n",
       "      <td>L</td>\n",
       "      <td>G</td>\n",
       "      <td>C</td>\n",
       "      <td>14</td>\n",
       "      <td>0</td>\n",
       "      <td>...</td>\n",
       "      <td>0</td>\n",
       "      <td>0</td>\n",
       "      <td>0</td>\n",
       "      <td>0</td>\n",
       "      <td>0</td>\n",
       "      <td>0</td>\n",
       "      <td>0</td>\n",
       "      <td>0</td>\n",
       "      <td>CT</td>\n",
       "      <td>MDD, Recurrent, Severe Without Psychotic Features</td>\n",
       "    </tr>\n",
       "    <tr>\n",
       "      <th>464</th>\n",
       "      <td>465</td>\n",
       "      <td>M</td>\n",
       "      <td>53</td>\n",
       "      <td>L</td>\n",
       "      <td>MDD, Recurrent, Severe Without Psychotic Features</td>\n",
       "      <td>L</td>\n",
       "      <td>G</td>\n",
       "      <td>C</td>\n",
       "      <td>139</td>\n",
       "      <td>0</td>\n",
       "      <td>...</td>\n",
       "      <td>12</td>\n",
       "      <td>0</td>\n",
       "      <td>0</td>\n",
       "      <td>0</td>\n",
       "      <td>0</td>\n",
       "      <td>0</td>\n",
       "      <td>3</td>\n",
       "      <td>19</td>\n",
       "      <td>TL</td>\n",
       "      <td>MDD, Recurrent, Severe Without Psychotic Features</td>\n",
       "    </tr>\n",
       "  </tbody>\n",
       "</table>\n",
       "<p>3 rows × 44 columns</p>\n",
       "</div>"
      ],
      "text/plain": [
       "      ID GENDER  AGE RACE/ETHNICITY  \\\n",
       "107  108      F   50              W   \n",
       "243  244      F   36              W   \n",
       "464  465      M   53              L   \n",
       "\n",
       "                                             Diagnosis MD Assignment EMR  \\\n",
       "107  MDD, Recurrent, Severe Without Psychotic Features  I          G   C   \n",
       "243  MDD, Recurrent, Severe Without Psychotic Features  L          G   C   \n",
       "464  MDD, Recurrent, Severe Without Psychotic Features  L          G   C   \n",
       "\n",
       "     StayLength  Re_admission  ...   Y  Z  AA  AB  AC  AD  \\\n",
       "107         158             0  ...   0  0   0   1   0   0   \n",
       "243          14             0  ...   0  0   0   0   0   0   \n",
       "464         139             0  ...  12  0   0   0   0   0   \n",
       "\n",
       "     # Psychotropic Medications  # Administrations  Therapeutic Guidances  \\\n",
       "107                           3                 27                     EG   \n",
       "243                           0                  0                     CT   \n",
       "464                           3                 19                     TL   \n",
       "\n",
       "                                            Diagnosis2  \n",
       "107  MDD, Recurrent, Severe Without Psychotic Features  \n",
       "243  MDD, Recurrent, Severe Without Psychotic Features  \n",
       "464  MDD, Recurrent, Severe Without Psychotic Features  \n",
       "\n",
       "[3 rows x 44 columns]"
      ]
     },
     "execution_count": 185,
     "metadata": {},
     "output_type": "execute_result"
    }
   ],
   "source": [
    "sub_df.head(3)"
   ]
  },
  {
   "cell_type": "code",
   "execution_count": 186,
   "id": "c969ec75",
   "metadata": {},
   "outputs": [
    {
     "data": {
      "text/plain": [
       "(325, 44)"
      ]
     },
     "execution_count": 186,
     "metadata": {},
     "output_type": "execute_result"
    }
   ],
   "source": [
    "sub_df.shape"
   ]
  },
  {
   "cell_type": "code",
   "execution_count": 187,
   "id": "c4182ee1",
   "metadata": {},
   "outputs": [],
   "source": [
    "# split by AGE (2 groups), gender (2 groups)"
   ]
  },
  {
   "cell_type": "code",
   "execution_count": 188,
   "id": "e746fa60",
   "metadata": {},
   "outputs": [
    {
     "data": {
      "text/html": [
       "<div>\n",
       "<style scoped>\n",
       "    .dataframe tbody tr th:only-of-type {\n",
       "        vertical-align: middle;\n",
       "    }\n",
       "\n",
       "    .dataframe tbody tr th {\n",
       "        vertical-align: top;\n",
       "    }\n",
       "\n",
       "    .dataframe thead th {\n",
       "        text-align: right;\n",
       "    }\n",
       "</style>\n",
       "<table border=\"1\" class=\"dataframe\">\n",
       "  <thead>\n",
       "    <tr style=\"text-align: right;\">\n",
       "      <th></th>\n",
       "      <th>AGE</th>\n",
       "    </tr>\n",
       "  </thead>\n",
       "  <tbody>\n",
       "    <tr>\n",
       "      <th>count</th>\n",
       "      <td>325.000000</td>\n",
       "    </tr>\n",
       "    <tr>\n",
       "      <th>mean</th>\n",
       "      <td>37.366154</td>\n",
       "    </tr>\n",
       "    <tr>\n",
       "      <th>std</th>\n",
       "      <td>16.333279</td>\n",
       "    </tr>\n",
       "    <tr>\n",
       "      <th>min</th>\n",
       "      <td>18.000000</td>\n",
       "    </tr>\n",
       "    <tr>\n",
       "      <th>25%</th>\n",
       "      <td>23.000000</td>\n",
       "    </tr>\n",
       "    <tr>\n",
       "      <th>50%</th>\n",
       "      <td>34.000000</td>\n",
       "    </tr>\n",
       "    <tr>\n",
       "      <th>75%</th>\n",
       "      <td>52.000000</td>\n",
       "    </tr>\n",
       "    <tr>\n",
       "      <th>max</th>\n",
       "      <td>87.000000</td>\n",
       "    </tr>\n",
       "  </tbody>\n",
       "</table>\n",
       "</div>"
      ],
      "text/plain": [
       "              AGE\n",
       "count  325.000000\n",
       "mean    37.366154\n",
       "std     16.333279\n",
       "min     18.000000\n",
       "25%     23.000000\n",
       "50%     34.000000\n",
       "75%     52.000000\n",
       "max     87.000000"
      ]
     },
     "execution_count": 188,
     "metadata": {},
     "output_type": "execute_result"
    }
   ],
   "source": [
    "sub_df[[\"AGE\"]].describe()"
   ]
  },
  {
   "cell_type": "code",
   "execution_count": 189,
   "id": "433ece48",
   "metadata": {},
   "outputs": [],
   "source": [
    "# seperate age to 2 groups by median\n",
    "def rename_age(age):\n",
    "    if age < 34:\n",
    "        return f\"Young\"\n",
    "    else:\n",
    "        return f\"Old\""
   ]
  },
  {
   "cell_type": "code",
   "execution_count": 190,
   "id": "3f0defb6",
   "metadata": {},
   "outputs": [
    {
     "name": "stderr",
     "output_type": "stream",
     "text": [
      "<ipython-input-190-a1ae6e42bd32>:1: SettingWithCopyWarning: \n",
      "A value is trying to be set on a copy of a slice from a DataFrame.\n",
      "Try using .loc[row_indexer,col_indexer] = value instead\n",
      "\n",
      "See the caveats in the documentation: https://pandas.pydata.org/pandas-docs/stable/user_guide/indexing.html#returning-a-view-versus-a-copy\n",
      "  sub_df[\"AGE\"] = sub_df[\"AGE\"].apply(rename_age)\n"
     ]
    }
   ],
   "source": [
    "sub_df[\"AGE\"] = sub_df[\"AGE\"].apply(rename_age)"
   ]
  },
  {
   "cell_type": "code",
   "execution_count": 191,
   "id": "7dcd6878",
   "metadata": {},
   "outputs": [
    {
     "data": {
      "text/html": [
       "<div>\n",
       "<style scoped>\n",
       "    .dataframe tbody tr th:only-of-type {\n",
       "        vertical-align: middle;\n",
       "    }\n",
       "\n",
       "    .dataframe tbody tr th {\n",
       "        vertical-align: top;\n",
       "    }\n",
       "\n",
       "    .dataframe thead th {\n",
       "        text-align: right;\n",
       "    }\n",
       "</style>\n",
       "<table border=\"1\" class=\"dataframe\">\n",
       "  <thead>\n",
       "    <tr style=\"text-align: right;\">\n",
       "      <th></th>\n",
       "      <th>AGE</th>\n",
       "    </tr>\n",
       "  </thead>\n",
       "  <tbody>\n",
       "    <tr>\n",
       "      <th>107</th>\n",
       "      <td>Old</td>\n",
       "    </tr>\n",
       "    <tr>\n",
       "      <th>243</th>\n",
       "      <td>Old</td>\n",
       "    </tr>\n",
       "    <tr>\n",
       "      <th>464</th>\n",
       "      <td>Old</td>\n",
       "    </tr>\n",
       "    <tr>\n",
       "      <th>466</th>\n",
       "      <td>Old</td>\n",
       "    </tr>\n",
       "    <tr>\n",
       "      <th>467</th>\n",
       "      <td>Old</td>\n",
       "    </tr>\n",
       "  </tbody>\n",
       "</table>\n",
       "</div>"
      ],
      "text/plain": [
       "     AGE\n",
       "107  Old\n",
       "243  Old\n",
       "464  Old\n",
       "466  Old\n",
       "467  Old"
      ]
     },
     "execution_count": 191,
     "metadata": {},
     "output_type": "execute_result"
    }
   ],
   "source": [
    "sub_df[[\"AGE\"]].head()"
   ]
  },
  {
   "cell_type": "code",
   "execution_count": 192,
   "id": "00b68858",
   "metadata": {},
   "outputs": [
    {
     "data": {
      "text/plain": [
       "(325, 1)"
      ]
     },
     "execution_count": 192,
     "metadata": {},
     "output_type": "execute_result"
    }
   ],
   "source": [
    "sub_df[[\"AGE\"]].shape"
   ]
  },
  {
   "cell_type": "code",
   "execution_count": 193,
   "id": "4e7631dd",
   "metadata": {},
   "outputs": [
    {
     "data": {
      "text/plain": [
       "AGE    GENDER\n",
       "Old    F         82\n",
       "       M         82\n",
       "Young  F         90\n",
       "       M         71\n",
       "Name: StayLength, dtype: int64"
      ]
     },
     "execution_count": 193,
     "metadata": {},
     "output_type": "execute_result"
    }
   ],
   "source": [
    "sub_df.groupby(by=[\"AGE\", \"GENDER\"])[\"StayLength\"].count()"
   ]
  },
  {
   "cell_type": "code",
   "execution_count": 194,
   "id": "1c096b06",
   "metadata": {},
   "outputs": [
    {
     "data": {
      "text/plain": [
       "AGE    GENDER\n",
       "Old    F         184.121951\n",
       "       M         209.707317\n",
       "Young  F         142.844444\n",
       "       M         190.690141\n",
       "Name: StayLength, dtype: float64"
      ]
     },
     "execution_count": 194,
     "metadata": {},
     "output_type": "execute_result"
    }
   ],
   "source": [
    "sub_df.groupby(by=[\"AGE\", \"GENDER\"])[\"StayLength\"].mean()"
   ]
  },
  {
   "cell_type": "code",
   "execution_count": null,
   "id": "533f51d1",
   "metadata": {},
   "outputs": [],
   "source": [
    "# young female group have lesser stay length\n",
    "# can allow for further parameter consideration..."
   ]
  },
  {
   "cell_type": "markdown",
   "id": "343b9121",
   "metadata": {},
   "source": [
    "PART 5: Check relationship between # Psychotropic Medications and # Administrations"
   ]
  },
  {
   "cell_type": "code",
   "execution_count": null,
   "id": "8102d54e",
   "metadata": {},
   "outputs": [],
   "source": [
    "# does having more types of medicine means lesser doses required \n",
    "# immunity (stronger dose for repeated)"
   ]
  },
  {
   "cell_type": "code",
   "execution_count": 197,
   "id": "f4191a3c",
   "metadata": {},
   "outputs": [
    {
     "data": {
      "text/html": [
       "<div>\n",
       "<style scoped>\n",
       "    .dataframe tbody tr th:only-of-type {\n",
       "        vertical-align: middle;\n",
       "    }\n",
       "\n",
       "    .dataframe tbody tr th {\n",
       "        vertical-align: top;\n",
       "    }\n",
       "\n",
       "    .dataframe thead th {\n",
       "        text-align: right;\n",
       "    }\n",
       "</style>\n",
       "<table border=\"1\" class=\"dataframe\">\n",
       "  <thead>\n",
       "    <tr style=\"text-align: right;\">\n",
       "      <th></th>\n",
       "      <th>ID</th>\n",
       "      <th>GENDER</th>\n",
       "      <th>AGE</th>\n",
       "      <th>RACE/ETHNICITY</th>\n",
       "      <th>Diagnosis</th>\n",
       "      <th>MD</th>\n",
       "      <th>Assignment</th>\n",
       "      <th>EMR</th>\n",
       "      <th>StayLength</th>\n",
       "      <th>Re_admission</th>\n",
       "      <th>...</th>\n",
       "      <th>Y</th>\n",
       "      <th>Z</th>\n",
       "      <th>AA</th>\n",
       "      <th>AB</th>\n",
       "      <th>AC</th>\n",
       "      <th>AD</th>\n",
       "      <th>no_of_medicine_type</th>\n",
       "      <th># Administrations</th>\n",
       "      <th>Therapeutic Guidances</th>\n",
       "      <th>Diagnosis2</th>\n",
       "    </tr>\n",
       "  </thead>\n",
       "  <tbody>\n",
       "    <tr>\n",
       "      <th>0</th>\n",
       "      <td>1</td>\n",
       "      <td>F</td>\n",
       "      <td>49</td>\n",
       "      <td>W</td>\n",
       "      <td>MDD, Recurrent, Unspecified</td>\n",
       "      <td>L</td>\n",
       "      <td>G</td>\n",
       "      <td>C</td>\n",
       "      <td>70</td>\n",
       "      <td>0</td>\n",
       "      <td>...</td>\n",
       "      <td>0</td>\n",
       "      <td>0</td>\n",
       "      <td>0</td>\n",
       "      <td>1</td>\n",
       "      <td>0</td>\n",
       "      <td>0</td>\n",
       "      <td>3</td>\n",
       "      <td>6</td>\n",
       "      <td>EG</td>\n",
       "      <td>MDD, Recurrent, Unspecified</td>\n",
       "    </tr>\n",
       "    <tr>\n",
       "      <th>1</th>\n",
       "      <td>2</td>\n",
       "      <td>F</td>\n",
       "      <td>21</td>\n",
       "      <td>W</td>\n",
       "      <td>MDD, Recurrent, Unspecified</td>\n",
       "      <td>A</td>\n",
       "      <td>G</td>\n",
       "      <td>C</td>\n",
       "      <td>309</td>\n",
       "      <td>0</td>\n",
       "      <td>...</td>\n",
       "      <td>13</td>\n",
       "      <td>0</td>\n",
       "      <td>0</td>\n",
       "      <td>0</td>\n",
       "      <td>0</td>\n",
       "      <td>0</td>\n",
       "      <td>3</td>\n",
       "      <td>27</td>\n",
       "      <td>CT</td>\n",
       "      <td>MDD, Recurrent, Unspecified</td>\n",
       "    </tr>\n",
       "    <tr>\n",
       "      <th>2</th>\n",
       "      <td>3</td>\n",
       "      <td>M</td>\n",
       "      <td>28</td>\n",
       "      <td>L</td>\n",
       "      <td>MDD, Single Episode, Severe With Psychotic Fea...</td>\n",
       "      <td>I</td>\n",
       "      <td>G</td>\n",
       "      <td>C</td>\n",
       "      <td>376</td>\n",
       "      <td>0</td>\n",
       "      <td>...</td>\n",
       "      <td>0</td>\n",
       "      <td>15</td>\n",
       "      <td>0</td>\n",
       "      <td>4</td>\n",
       "      <td>0</td>\n",
       "      <td>0</td>\n",
       "      <td>6</td>\n",
       "      <td>64</td>\n",
       "      <td>CT</td>\n",
       "      <td>MDD, Single Episode, Severe With Psychotic Fea...</td>\n",
       "    </tr>\n",
       "  </tbody>\n",
       "</table>\n",
       "<p>3 rows × 44 columns</p>\n",
       "</div>"
      ],
      "text/plain": [
       "   ID GENDER  AGE RACE/ETHNICITY  \\\n",
       "0   1      F   49              W   \n",
       "1   2      F   21              W   \n",
       "2   3      M   28              L   \n",
       "\n",
       "                                           Diagnosis MD Assignment EMR  \\\n",
       "0                        MDD, Recurrent, Unspecified  L          G   C   \n",
       "1                        MDD, Recurrent, Unspecified  A          G   C   \n",
       "2  MDD, Single Episode, Severe With Psychotic Fea...  I          G   C   \n",
       "\n",
       "   StayLength  Re_admission  ...   Y   Z  AA  AB  AC  AD  no_of_medicine_type  \\\n",
       "0          70             0  ...   0   0   0   1   0   0                    3   \n",
       "1         309             0  ...  13   0   0   0   0   0                    3   \n",
       "2         376             0  ...   0  15   0   4   0   0                    6   \n",
       "\n",
       "   # Administrations  Therapeutic Guidances  \\\n",
       "0                  6                     EG   \n",
       "1                 27                     CT   \n",
       "2                 64                     CT   \n",
       "\n",
       "                                          Diagnosis2  \n",
       "0                        MDD, Recurrent, Unspecified  \n",
       "1                        MDD, Recurrent, Unspecified  \n",
       "2  MDD, Single Episode, Severe With Psychotic Fea...  \n",
       "\n",
       "[3 rows x 44 columns]"
      ]
     },
     "execution_count": 197,
     "metadata": {},
     "output_type": "execute_result"
    }
   ],
   "source": [
    "# Administration means doses of medicine\n",
    "clinic_df.head(3)"
   ]
  },
  {
   "cell_type": "code",
   "execution_count": 198,
   "id": "a94c9fa6",
   "metadata": {},
   "outputs": [
    {
     "data": {
      "text/html": [
       "<div>\n",
       "<style scoped>\n",
       "    .dataframe tbody tr th:only-of-type {\n",
       "        vertical-align: middle;\n",
       "    }\n",
       "\n",
       "    .dataframe tbody tr th {\n",
       "        vertical-align: top;\n",
       "    }\n",
       "\n",
       "    .dataframe thead th {\n",
       "        text-align: right;\n",
       "    }\n",
       "</style>\n",
       "<table border=\"1\" class=\"dataframe\">\n",
       "  <thead>\n",
       "    <tr style=\"text-align: right;\">\n",
       "      <th></th>\n",
       "      <th>ID</th>\n",
       "      <th>GENDER</th>\n",
       "      <th>AGE</th>\n",
       "      <th>RACE/ETHNICITY</th>\n",
       "      <th>Diagnosis</th>\n",
       "      <th>MD</th>\n",
       "      <th>Assignment</th>\n",
       "      <th>EMR</th>\n",
       "      <th>StayLength</th>\n",
       "      <th>Re_admission</th>\n",
       "      <th>...</th>\n",
       "      <th>Y</th>\n",
       "      <th>Z</th>\n",
       "      <th>AA</th>\n",
       "      <th>AB</th>\n",
       "      <th>AC</th>\n",
       "      <th>AD</th>\n",
       "      <th>no_of_medicine_type</th>\n",
       "      <th># Administrations</th>\n",
       "      <th>Therapeutic Guidances</th>\n",
       "      <th>Diagnosis2</th>\n",
       "    </tr>\n",
       "  </thead>\n",
       "  <tbody>\n",
       "    <tr>\n",
       "      <th>0</th>\n",
       "      <td>1</td>\n",
       "      <td>F</td>\n",
       "      <td>49</td>\n",
       "      <td>W</td>\n",
       "      <td>MDD, Recurrent, Unspecified</td>\n",
       "      <td>L</td>\n",
       "      <td>G</td>\n",
       "      <td>C</td>\n",
       "      <td>70</td>\n",
       "      <td>0</td>\n",
       "      <td>...</td>\n",
       "      <td>0</td>\n",
       "      <td>0</td>\n",
       "      <td>0</td>\n",
       "      <td>1</td>\n",
       "      <td>0</td>\n",
       "      <td>0</td>\n",
       "      <td>3</td>\n",
       "      <td>6</td>\n",
       "      <td>EG</td>\n",
       "      <td>MDD, Recurrent, Unspecified</td>\n",
       "    </tr>\n",
       "    <tr>\n",
       "      <th>1</th>\n",
       "      <td>2</td>\n",
       "      <td>F</td>\n",
       "      <td>21</td>\n",
       "      <td>W</td>\n",
       "      <td>MDD, Recurrent, Unspecified</td>\n",
       "      <td>A</td>\n",
       "      <td>G</td>\n",
       "      <td>C</td>\n",
       "      <td>309</td>\n",
       "      <td>0</td>\n",
       "      <td>...</td>\n",
       "      <td>13</td>\n",
       "      <td>0</td>\n",
       "      <td>0</td>\n",
       "      <td>0</td>\n",
       "      <td>0</td>\n",
       "      <td>0</td>\n",
       "      <td>3</td>\n",
       "      <td>27</td>\n",
       "      <td>CT</td>\n",
       "      <td>MDD, Recurrent, Unspecified</td>\n",
       "    </tr>\n",
       "    <tr>\n",
       "      <th>2</th>\n",
       "      <td>3</td>\n",
       "      <td>M</td>\n",
       "      <td>28</td>\n",
       "      <td>L</td>\n",
       "      <td>MDD, Single Episode, Severe With Psychotic Fea...</td>\n",
       "      <td>I</td>\n",
       "      <td>G</td>\n",
       "      <td>C</td>\n",
       "      <td>376</td>\n",
       "      <td>0</td>\n",
       "      <td>...</td>\n",
       "      <td>0</td>\n",
       "      <td>15</td>\n",
       "      <td>0</td>\n",
       "      <td>4</td>\n",
       "      <td>0</td>\n",
       "      <td>0</td>\n",
       "      <td>6</td>\n",
       "      <td>64</td>\n",
       "      <td>CT</td>\n",
       "      <td>MDD, Single Episode, Severe With Psychotic Fea...</td>\n",
       "    </tr>\n",
       "  </tbody>\n",
       "</table>\n",
       "<p>3 rows × 44 columns</p>\n",
       "</div>"
      ],
      "text/plain": [
       "   ID GENDER  AGE RACE/ETHNICITY  \\\n",
       "0   1      F   49              W   \n",
       "1   2      F   21              W   \n",
       "2   3      M   28              L   \n",
       "\n",
       "                                           Diagnosis MD Assignment EMR  \\\n",
       "0                        MDD, Recurrent, Unspecified  L          G   C   \n",
       "1                        MDD, Recurrent, Unspecified  A          G   C   \n",
       "2  MDD, Single Episode, Severe With Psychotic Fea...  I          G   C   \n",
       "\n",
       "   StayLength  Re_admission  ...   Y   Z  AA  AB  AC  AD  no_of_medicine_type  \\\n",
       "0          70             0  ...   0   0   0   1   0   0                    3   \n",
       "1         309             0  ...  13   0   0   0   0   0                    3   \n",
       "2         376             0  ...   0  15   0   4   0   0                    6   \n",
       "\n",
       "   # Administrations  Therapeutic Guidances  \\\n",
       "0                  6                     EG   \n",
       "1                 27                     CT   \n",
       "2                 64                     CT   \n",
       "\n",
       "                                          Diagnosis2  \n",
       "0                        MDD, Recurrent, Unspecified  \n",
       "1                        MDD, Recurrent, Unspecified  \n",
       "2  MDD, Single Episode, Severe With Psychotic Fea...  \n",
       "\n",
       "[3 rows x 44 columns]"
      ]
     },
     "execution_count": 198,
     "metadata": {},
     "output_type": "execute_result"
    }
   ],
   "source": [
    "clinic_df.rename(columns={\"# Psychotropic Medications\": \"no_of_medicine_type\"},inplace= True)\n",
    "clinic_df.head(3)"
   ]
  },
  {
   "cell_type": "code",
   "execution_count": 199,
   "id": "dc6bac7c",
   "metadata": {},
   "outputs": [
    {
     "data": {
      "text/plain": [
       "<AxesSubplot:xlabel='no_of_medicine_type', ylabel='# Administrations'>"
      ]
     },
     "execution_count": 199,
     "metadata": {},
     "output_type": "execute_result"
    },
    {
     "data": {
      "image/png": "[encoded data removed]",
      "text/plain": [
       "<Figure size 576x432 with 1 Axes>"
      ]
     },
     "metadata": {
      "needs_background": "light"
     },
     "output_type": "display_data"
    }
   ],
   "source": [
    "clinic_df.plot(kind=\"scatter\", x = \"no_of_medicine_type\", y =\"# Administrations\",\n",
    "               figsize = (8,6))"
   ]
  },
  {
   "cell_type": "code",
   "execution_count": null,
   "id": "fa600bf4",
   "metadata": {},
   "outputs": [],
   "source": [
    "# no relationship found between the 2 column data"
   ]
  }
 ],
 "metadata": {
  "kernelspec": {
   "display_name": "Python 3",
   "language": "python",
   "name": "python3"
  },
  "language_info": {
   "codemirror_mode": {
    "name": "ipython",
    "version": 3
   },
   "file_extension": ".py",
   "mimetype": "text/x-python",
   "name": "python",
   "nbconvert_exporter": "python",
   "pygments_lexer": "ipython3",
   "version": "3.8.8"
  }
 },
 "nbformat": 4,
 "nbformat_minor": 5
}
